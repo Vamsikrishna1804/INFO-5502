{
  "nbformat": 4,
  "nbformat_minor": 0,
  "metadata": {
    "colab": {
      "name": "Assignment5_VamsiKrishnaBharghavaMuktinutalapati_(1).ipynb",
      "provenance": [],
      "collapsed_sections": [],
      "include_colab_link": true
    },
    "kernelspec": {
      "name": "python3",
      "display_name": "Python 3"
    },
    "language_info": {
      "name": "python"
    }
  },
  "cells": [
    {
      "cell_type": "markdown",
      "metadata": {
        "id": "view-in-github",
        "colab_type": "text"
      },
      "source": [
        "<a href=\"https://colab.research.google.com/github/Vamsikrishna1804/INFO-5502/blob/main/Assignment5_VamsiKrishnaBharghavaMuktinutalapati_(1).ipynb\" target=\"_parent\"><img src=\"https://colab.research.google.com/assets/colab-badge.svg\" alt=\"Open In Colab\"/></a>"
      ]
    },
    {
      "cell_type": "code",
      "metadata": {
        "id": "u0kb1-ISSJpJ"
      },
      "source": [
        "import pandas as pd\n",
        "import numpy as np\n",
        "from datascience import *\n",
        "import matplotlib.pyplot as plt\n",
        "import seaborn as sns\n",
        "\n"
      ],
      "execution_count": null,
      "outputs": []
    },
    {
      "cell_type": "code",
      "metadata": {
        "colab": {
          "base_uri": "https://localhost:8080/"
        },
        "id": "pRcqLvH5IG74",
        "outputId": "aa58b016-f215-4fcd-f574-b79ca34b2cf1"
      },
      "source": [
        "!pip install datascience"
      ],
      "execution_count": null,
      "outputs": [
        {
          "output_type": "stream",
          "text": [
            "Requirement already satisfied: datascience in /usr/local/lib/python3.7/dist-packages (0.10.6)\n",
            "Requirement already satisfied: coverage==3.7.1 in /usr/local/lib/python3.7/dist-packages (from datascience) (3.7.1)\n",
            "Requirement already satisfied: coveralls==0.5 in /usr/local/lib/python3.7/dist-packages (from datascience) (0.5)\n",
            "Requirement already satisfied: sphinx in /usr/local/lib/python3.7/dist-packages (from datascience) (1.8.5)\n",
            "Requirement already satisfied: setuptools in /usr/local/lib/python3.7/dist-packages (from datascience) (57.2.0)\n",
            "Requirement already satisfied: pytest in /usr/local/lib/python3.7/dist-packages (from datascience) (3.6.4)\n",
            "Requirement already satisfied: folium==0.2.1 in /usr/local/lib/python3.7/dist-packages (from datascience) (0.2.1)\n",
            "Requirement already satisfied: docopt>=0.6.1 in /usr/local/lib/python3.7/dist-packages (from coveralls==0.5->datascience) (0.6.2)\n",
            "Requirement already satisfied: PyYAML>=3.10 in /usr/local/lib/python3.7/dist-packages (from coveralls==0.5->datascience) (3.13)\n",
            "Requirement already satisfied: requests>=1.0.0 in /usr/local/lib/python3.7/dist-packages (from coveralls==0.5->datascience) (2.23.0)\n",
            "Requirement already satisfied: Jinja2 in /usr/local/lib/python3.7/dist-packages (from folium==0.2.1->datascience) (2.11.3)\n",
            "Requirement already satisfied: chardet<4,>=3.0.2 in /usr/local/lib/python3.7/dist-packages (from requests>=1.0.0->coveralls==0.5->datascience) (3.0.4)\n",
            "Requirement already satisfied: idna<3,>=2.5 in /usr/local/lib/python3.7/dist-packages (from requests>=1.0.0->coveralls==0.5->datascience) (2.10)\n",
            "Requirement already satisfied: certifi>=2017.4.17 in /usr/local/lib/python3.7/dist-packages (from requests>=1.0.0->coveralls==0.5->datascience) (2021.5.30)\n",
            "Requirement already satisfied: urllib3!=1.25.0,!=1.25.1,<1.26,>=1.21.1 in /usr/local/lib/python3.7/dist-packages (from requests>=1.0.0->coveralls==0.5->datascience) (1.24.3)\n",
            "Requirement already satisfied: MarkupSafe>=0.23 in /usr/local/lib/python3.7/dist-packages (from Jinja2->folium==0.2.1->datascience) (2.0.1)\n",
            "Requirement already satisfied: pluggy<0.8,>=0.5 in /usr/local/lib/python3.7/dist-packages (from pytest->datascience) (0.7.1)\n",
            "Requirement already satisfied: six>=1.10.0 in /usr/local/lib/python3.7/dist-packages (from pytest->datascience) (1.15.0)\n",
            "Requirement already satisfied: more-itertools>=4.0.0 in /usr/local/lib/python3.7/dist-packages (from pytest->datascience) (8.8.0)\n",
            "Requirement already satisfied: atomicwrites>=1.0 in /usr/local/lib/python3.7/dist-packages (from pytest->datascience) (1.4.0)\n",
            "Requirement already satisfied: attrs>=17.4.0 in /usr/local/lib/python3.7/dist-packages (from pytest->datascience) (21.2.0)\n",
            "Requirement already satisfied: py>=1.5.0 in /usr/local/lib/python3.7/dist-packages (from pytest->datascience) (1.10.0)\n",
            "Requirement already satisfied: docutils>=0.11 in /usr/local/lib/python3.7/dist-packages (from sphinx->datascience) (0.17.1)\n",
            "Requirement already satisfied: Pygments>=2.0 in /usr/local/lib/python3.7/dist-packages (from sphinx->datascience) (2.6.1)\n",
            "Requirement already satisfied: packaging in /usr/local/lib/python3.7/dist-packages (from sphinx->datascience) (21.0)\n",
            "Requirement already satisfied: alabaster<0.8,>=0.7 in /usr/local/lib/python3.7/dist-packages (from sphinx->datascience) (0.7.12)\n",
            "Requirement already satisfied: babel!=2.0,>=1.3 in /usr/local/lib/python3.7/dist-packages (from sphinx->datascience) (2.9.1)\n",
            "Requirement already satisfied: imagesize in /usr/local/lib/python3.7/dist-packages (from sphinx->datascience) (1.2.0)\n",
            "Requirement already satisfied: sphinxcontrib-websupport in /usr/local/lib/python3.7/dist-packages (from sphinx->datascience) (1.2.4)\n",
            "Requirement already satisfied: snowballstemmer>=1.1 in /usr/local/lib/python3.7/dist-packages (from sphinx->datascience) (2.1.0)\n",
            "Requirement already satisfied: pytz>=2015.7 in /usr/local/lib/python3.7/dist-packages (from babel!=2.0,>=1.3->sphinx->datascience) (2018.9)\n",
            "Requirement already satisfied: pyparsing>=2.0.2 in /usr/local/lib/python3.7/dist-packages (from packaging->sphinx->datascience) (2.4.7)\n",
            "Requirement already satisfied: sphinxcontrib-serializinghtml in /usr/local/lib/python3.7/dist-packages (from sphinxcontrib-websupport->sphinx->datascience) (1.1.5)\n"
          ],
          "name": "stdout"
        }
      ]
    },
    {
      "cell_type": "code",
      "metadata": {
        "colab": {
          "base_uri": "https://localhost:8080/",
          "height": 425
        },
        "id": "Dv19c8nyVC8q",
        "outputId": "4a70aeca-4d6a-4863-8c6e-d67453bf9f90"
      },
      "source": [
        "df=pd.read_csv('crime_rates.csv')\n",
        "df"
      ],
      "execution_count": null,
      "outputs": [
        {
          "output_type": "execute_result",
          "data": {
            "text/html": [
              "<div>\n",
              "<style scoped>\n",
              "    .dataframe tbody tr th:only-of-type {\n",
              "        vertical-align: middle;\n",
              "    }\n",
              "\n",
              "    .dataframe tbody tr th {\n",
              "        vertical-align: top;\n",
              "    }\n",
              "\n",
              "    .dataframe thead th {\n",
              "        text-align: right;\n",
              "    }\n",
              "</style>\n",
              "<table border=\"1\" class=\"dataframe\">\n",
              "  <thead>\n",
              "    <tr style=\"text-align: right;\">\n",
              "      <th></th>\n",
              "      <th>State</th>\n",
              "      <th>Year</th>\n",
              "      <th>Population</th>\n",
              "      <th>Violent Crime Rate</th>\n",
              "      <th>Murder Rate</th>\n",
              "      <th>Forcible Rape Rate</th>\n",
              "      <th>Robbery Rate</th>\n",
              "      <th>Aggraveted Assault Rate</th>\n",
              "      <th>Property Crime Rate</th>\n",
              "      <th>Burglary Rate</th>\n",
              "      <th>Larceny &amp; Theft Rate</th>\n",
              "      <th>Motor Vehicle Theft Rate</th>\n",
              "    </tr>\n",
              "  </thead>\n",
              "  <tbody>\n",
              "    <tr>\n",
              "      <th>0</th>\n",
              "      <td>Alaska</td>\n",
              "      <td>1960</td>\n",
              "      <td>226167</td>\n",
              "      <td>104.300003</td>\n",
              "      <td>10.2</td>\n",
              "      <td>20.799999</td>\n",
              "      <td>28.299999</td>\n",
              "      <td>45.099998</td>\n",
              "      <td>1544.900024</td>\n",
              "      <td>332.100006</td>\n",
              "      <td>970.500000</td>\n",
              "      <td>242.300003</td>\n",
              "    </tr>\n",
              "    <tr>\n",
              "      <th>1</th>\n",
              "      <td>Alaska</td>\n",
              "      <td>1961</td>\n",
              "      <td>234000</td>\n",
              "      <td>88.900002</td>\n",
              "      <td>11.5</td>\n",
              "      <td>13.200000</td>\n",
              "      <td>12.400000</td>\n",
              "      <td>51.700001</td>\n",
              "      <td>1540.599976</td>\n",
              "      <td>380.799988</td>\n",
              "      <td>950.000000</td>\n",
              "      <td>209.800003</td>\n",
              "    </tr>\n",
              "    <tr>\n",
              "      <th>2</th>\n",
              "      <td>Alaska</td>\n",
              "      <td>1962</td>\n",
              "      <td>246000</td>\n",
              "      <td>91.500000</td>\n",
              "      <td>4.5</td>\n",
              "      <td>18.700001</td>\n",
              "      <td>13.800000</td>\n",
              "      <td>54.500000</td>\n",
              "      <td>1564.599976</td>\n",
              "      <td>351.600006</td>\n",
              "      <td>985.400024</td>\n",
              "      <td>227.600006</td>\n",
              "    </tr>\n",
              "    <tr>\n",
              "      <th>3</th>\n",
              "      <td>Alaska</td>\n",
              "      <td>1963</td>\n",
              "      <td>248000</td>\n",
              "      <td>109.699997</td>\n",
              "      <td>6.5</td>\n",
              "      <td>14.900000</td>\n",
              "      <td>22.200001</td>\n",
              "      <td>66.099998</td>\n",
              "      <td>1952.800049</td>\n",
              "      <td>381.500000</td>\n",
              "      <td>1213.699951</td>\n",
              "      <td>357.700012</td>\n",
              "    </tr>\n",
              "    <tr>\n",
              "      <th>4</th>\n",
              "      <td>Alaska</td>\n",
              "      <td>1964</td>\n",
              "      <td>250000</td>\n",
              "      <td>150.000000</td>\n",
              "      <td>10.4</td>\n",
              "      <td>22.400000</td>\n",
              "      <td>21.200001</td>\n",
              "      <td>96.000000</td>\n",
              "      <td>2016.000000</td>\n",
              "      <td>443.600006</td>\n",
              "      <td>1218.400024</td>\n",
              "      <td>354.000000</td>\n",
              "    </tr>\n",
              "    <tr>\n",
              "      <th>...</th>\n",
              "      <td>...</td>\n",
              "      <td>...</td>\n",
              "      <td>...</td>\n",
              "      <td>...</td>\n",
              "      <td>...</td>\n",
              "      <td>...</td>\n",
              "      <td>...</td>\n",
              "      <td>...</td>\n",
              "      <td>...</td>\n",
              "      <td>...</td>\n",
              "      <td>...</td>\n",
              "      <td>...</td>\n",
              "    </tr>\n",
              "    <tr>\n",
              "      <th>2195</th>\n",
              "      <td>Wyoming</td>\n",
              "      <td>1999</td>\n",
              "      <td>480000</td>\n",
              "      <td>232.500000</td>\n",
              "      <td>2.3</td>\n",
              "      <td>28.600000</td>\n",
              "      <td>15.400000</td>\n",
              "      <td>186.199997</td>\n",
              "      <td>3225.199951</td>\n",
              "      <td>489.799988</td>\n",
              "      <td>2611.100098</td>\n",
              "      <td>124.300003</td>\n",
              "    </tr>\n",
              "    <tr>\n",
              "      <th>2196</th>\n",
              "      <td>Wyoming</td>\n",
              "      <td>2000</td>\n",
              "      <td>493782</td>\n",
              "      <td>266.500000</td>\n",
              "      <td>2.4</td>\n",
              "      <td>32.400002</td>\n",
              "      <td>14.200000</td>\n",
              "      <td>217.500000</td>\n",
              "      <td>3031.500000</td>\n",
              "      <td>420.799988</td>\n",
              "      <td>2494.600098</td>\n",
              "      <td>116.000000</td>\n",
              "    </tr>\n",
              "    <tr>\n",
              "      <th>2197</th>\n",
              "      <td>Wyoming</td>\n",
              "      <td>2001</td>\n",
              "      <td>494423</td>\n",
              "      <td>257.299988</td>\n",
              "      <td>1.8</td>\n",
              "      <td>30.900000</td>\n",
              "      <td>17.000000</td>\n",
              "      <td>207.500000</td>\n",
              "      <td>3260.399902</td>\n",
              "      <td>501.799988</td>\n",
              "      <td>2617.800049</td>\n",
              "      <td>140.800003</td>\n",
              "    </tr>\n",
              "    <tr>\n",
              "      <th>2198</th>\n",
              "      <td>Wyoming</td>\n",
              "      <td>2002</td>\n",
              "      <td>498830</td>\n",
              "      <td>273.399994</td>\n",
              "      <td>3.0</td>\n",
              "      <td>29.700001</td>\n",
              "      <td>18.600000</td>\n",
              "      <td>222.100006</td>\n",
              "      <td>3306.500000</td>\n",
              "      <td>490.700012</td>\n",
              "      <td>2666.800049</td>\n",
              "      <td>148.899994</td>\n",
              "    </tr>\n",
              "    <tr>\n",
              "      <th>2199</th>\n",
              "      <td>Wyoming</td>\n",
              "      <td>2003</td>\n",
              "      <td>501242</td>\n",
              "      <td>262.100006</td>\n",
              "      <td>2.8</td>\n",
              "      <td>27.100000</td>\n",
              "      <td>16.799999</td>\n",
              "      <td>215.500000</td>\n",
              "      <td>3321.300049</td>\n",
              "      <td>520.900024</td>\n",
              "      <td>2641.199951</td>\n",
              "      <td>159.199997</td>\n",
              "    </tr>\n",
              "  </tbody>\n",
              "</table>\n",
              "<p>2200 rows × 12 columns</p>\n",
              "</div>"
            ],
            "text/plain": [
              "        State  Year  ...  Larceny & Theft Rate  Motor Vehicle Theft Rate\n",
              "0      Alaska  1960  ...            970.500000                242.300003\n",
              "1      Alaska  1961  ...            950.000000                209.800003\n",
              "2      Alaska  1962  ...            985.400024                227.600006\n",
              "3      Alaska  1963  ...           1213.699951                357.700012\n",
              "4      Alaska  1964  ...           1218.400024                354.000000\n",
              "...       ...   ...  ...                   ...                       ...\n",
              "2195  Wyoming  1999  ...           2611.100098                124.300003\n",
              "2196  Wyoming  2000  ...           2494.600098                116.000000\n",
              "2197  Wyoming  2001  ...           2617.800049                140.800003\n",
              "2198  Wyoming  2002  ...           2666.800049                148.899994\n",
              "2199  Wyoming  2003  ...           2641.199951                159.199997\n",
              "\n",
              "[2200 rows x 12 columns]"
            ]
          },
          "metadata": {
            "tags": []
          },
          "execution_count": 3
        }
      ]
    },
    {
      "cell_type": "code",
      "metadata": {
        "colab": {
          "base_uri": "https://localhost:8080/"
        },
        "id": "ypp--_UObBY8",
        "outputId": "20a4e21c-ce66-4982-c481-71c5d066ab7c"
      },
      "source": [
        "df.isnull().sum()"
      ],
      "execution_count": null,
      "outputs": [
        {
          "output_type": "execute_result",
          "data": {
            "text/plain": [
              "State                       0\n",
              "Year                        0\n",
              "Population                  0\n",
              "Violent Crime Rate          0\n",
              "Murder Rate                 0\n",
              "Forcible Rape Rate          0\n",
              "Robbery Rate                0\n",
              "Aggraveted Assault Rate     0\n",
              "Property Crime Rate         0\n",
              "Burglary Rate               0\n",
              "Larceny & Theft Rate        0\n",
              "Motor Vehicle Theft Rate    0\n",
              "dtype: int64"
            ]
          },
          "metadata": {
            "tags": []
          },
          "execution_count": 4
        }
      ]
    },
    {
      "cell_type": "markdown",
      "metadata": {
        "id": "kzVDBKOKa1Sx"
      },
      "source": [
        "1.2) Draw a line plot with years on the horizontal axis and murder rates on the vertical axis.Include two lines:  one for Alaska murder rates and one for Minnesota murder rates.  Create this plotusing a single call:akmn.plot(’Year’)."
      ]
    },
    {
      "cell_type": "code",
      "metadata": {
        "colab": {
          "base_uri": "https://localhost:8080/",
          "height": 378
        },
        "id": "cd0Tx3EsGzwI",
        "outputId": "8700c86e-d1b1-492f-a098-59c89898efba"
      },
      "source": [
        "df=Table.read_table('crime_rates.csv').select('State','Year','Population','Murder Rate')\n",
        "df.set_format(\"Population\", NumberFormatter)\n",
        "\n"
      ],
      "execution_count": null,
      "outputs": [
        {
          "output_type": "execute_result",
          "data": {
            "text/html": [
              "<table border=\"1\" class=\"dataframe\">\n",
              "    <thead>\n",
              "        <tr>\n",
              "            <th>State</th> <th>Year</th> <th>Population</th> <th>Murder Rate</th>\n",
              "        </tr>\n",
              "    </thead>\n",
              "    <tbody>\n",
              "        <tr>\n",
              "            <td>Alaska</td> <td>1960</td> <td>226,167   </td> <td>10.2       </td>\n",
              "        </tr>\n",
              "        <tr>\n",
              "            <td>Alaska</td> <td>1961</td> <td>234,000   </td> <td>11.5       </td>\n",
              "        </tr>\n",
              "        <tr>\n",
              "            <td>Alaska</td> <td>1962</td> <td>246,000   </td> <td>4.5        </td>\n",
              "        </tr>\n",
              "        <tr>\n",
              "            <td>Alaska</td> <td>1963</td> <td>248,000   </td> <td>6.5        </td>\n",
              "        </tr>\n",
              "        <tr>\n",
              "            <td>Alaska</td> <td>1964</td> <td>250,000   </td> <td>10.4       </td>\n",
              "        </tr>\n",
              "        <tr>\n",
              "            <td>Alaska</td> <td>1965</td> <td>253,000   </td> <td>6.3        </td>\n",
              "        </tr>\n",
              "        <tr>\n",
              "            <td>Alaska</td> <td>1966</td> <td>272,000   </td> <td>12.9       </td>\n",
              "        </tr>\n",
              "        <tr>\n",
              "            <td>Alaska</td> <td>1967</td> <td>272,000   </td> <td>9.6        </td>\n",
              "        </tr>\n",
              "        <tr>\n",
              "            <td>Alaska</td> <td>1968</td> <td>277,000   </td> <td>10.5       </td>\n",
              "        </tr>\n",
              "        <tr>\n",
              "            <td>Alaska</td> <td>1969</td> <td>282,000   </td> <td>10.6       </td>\n",
              "        </tr>\n",
              "    </tbody>\n",
              "</table>\n",
              "<p>... (2190 rows omitted)</p>"
            ],
            "text/plain": [
              "State  | Year | Population | Murder Rate\n",
              "Alaska | 1960 | 226,167    | 10.2\n",
              "Alaska | 1961 | 234,000    | 11.5\n",
              "Alaska | 1962 | 246,000    | 4.5\n",
              "Alaska | 1963 | 248,000    | 6.5\n",
              "Alaska | 1964 | 250,000    | 10.4\n",
              "Alaska | 1965 | 253,000    | 6.3\n",
              "Alaska | 1966 | 272,000    | 12.9\n",
              "Alaska | 1967 | 272,000    | 9.6\n",
              "Alaska | 1968 | 277,000    | 10.5\n",
              "Alaska | 1969 | 282,000    | 10.6\n",
              "... (2190 rows omitted)"
            ]
          },
          "metadata": {
            "tags": []
          },
          "execution_count": 5
        }
      ]
    },
    {
      "cell_type": "code",
      "metadata": {
        "colab": {
          "base_uri": "https://localhost:8080/",
          "height": 378
        },
        "id": "fQND_0XRa6p4",
        "outputId": "dd51fefc-5ef4-4209-8fe1-1ea55488eedc"
      },
      "source": [
        "ak = df.where('State', 'Alaska').drop('State', 'Population').relabeled(1, 'Alaska Murder rates')\n",
        "mn = df.where('State', 'Minnesota').drop('State', 'Population').relabeled(1, 'Minnesota Murder rates')\n",
        "ak_mn = ak.join('Year',mn)\n",
        "ak_mn\n",
        "\n",
        "\n"
      ],
      "execution_count": null,
      "outputs": [
        {
          "output_type": "execute_result",
          "data": {
            "text/html": [
              "<table border=\"1\" class=\"dataframe\">\n",
              "    <thead>\n",
              "        <tr>\n",
              "            <th>Year</th> <th>Alaska Murder rates</th> <th>Minnesota Murder rates</th>\n",
              "        </tr>\n",
              "    </thead>\n",
              "    <tbody>\n",
              "        <tr>\n",
              "            <td>1960</td> <td>10.2               </td> <td>1.2                   </td>\n",
              "        </tr>\n",
              "        <tr>\n",
              "            <td>1961</td> <td>11.5               </td> <td>1                     </td>\n",
              "        </tr>\n",
              "        <tr>\n",
              "            <td>1962</td> <td>4.5                </td> <td>0.9                   </td>\n",
              "        </tr>\n",
              "        <tr>\n",
              "            <td>1963</td> <td>6.5                </td> <td>1.2                   </td>\n",
              "        </tr>\n",
              "        <tr>\n",
              "            <td>1964</td> <td>10.4               </td> <td>1.4                   </td>\n",
              "        </tr>\n",
              "        <tr>\n",
              "            <td>1965</td> <td>6.3                </td> <td>1.4                   </td>\n",
              "        </tr>\n",
              "        <tr>\n",
              "            <td>1966</td> <td>12.9               </td> <td>2.2                   </td>\n",
              "        </tr>\n",
              "        <tr>\n",
              "            <td>1967</td> <td>9.6                </td> <td>1.6                   </td>\n",
              "        </tr>\n",
              "        <tr>\n",
              "            <td>1968</td> <td>10.5               </td> <td>2.2                   </td>\n",
              "        </tr>\n",
              "        <tr>\n",
              "            <td>1969</td> <td>10.6               </td> <td>1.9                   </td>\n",
              "        </tr>\n",
              "    </tbody>\n",
              "</table>\n",
              "<p>... (34 rows omitted)</p>"
            ],
            "text/plain": [
              "Year | Alaska Murder rates | Minnesota Murder rates\n",
              "1960 | 10.2                | 1.2\n",
              "1961 | 11.5                | 1\n",
              "1962 | 4.5                 | 0.9\n",
              "1963 | 6.5                 | 1.2\n",
              "1964 | 10.4                | 1.4\n",
              "1965 | 6.3                 | 1.4\n",
              "1966 | 12.9                | 2.2\n",
              "1967 | 9.6                 | 1.6\n",
              "1968 | 10.5                | 2.2\n",
              "1969 | 10.6                | 1.9\n",
              "... (34 rows omitted)"
            ]
          },
          "metadata": {
            "tags": []
          },
          "execution_count": 6
        }
      ]
    },
    {
      "cell_type": "code",
      "metadata": {
        "colab": {
          "base_uri": "https://localhost:8080/",
          "height": 311
        },
        "id": "M-Ym517-MUKR",
        "outputId": "e2a8b62f-3b48-4f3a-bdd8-fdba7dfb9d37"
      },
      "source": [
        "ak_mn.plot('Year')\n",
        "plt.title('Murder Rates for Alaska & Minnesota')\n",
        "plt.xlabel('Year')\n",
        "plt.ylabel('Murder Rates')"
      ],
      "execution_count": null,
      "outputs": [
        {
          "output_type": "execute_result",
          "data": {
            "text/plain": [
              "Text(0, 0.5, 'Murder Rates')"
            ]
          },
          "metadata": {
            "tags": []
          },
          "execution_count": 7
        },
        {
          "output_type": "display_data",
          "data": {
            "image/png": "[encoded data removed]",
            "text/plain": [
              "<Figure size 432x288 with 1 Axes>"
            ]
          },
          "metadata": {
            "tags": [],
            "needs_background": "light"
          }
        }
      ]
    },
    {
      "cell_type": "markdown",
      "metadata": {
        "id": "Pf5j9cgsepkP"
      },
      "source": [
        "Question 1.3.Implement the functionmostmurderous, which takes a year (an integer) as its argument.It does two things:1.  It draws a horizontal bar chart of the 5 states that had the highest murder rate in that year.2.  It returns an array of the names of these states in order of increasing murder rate."
      ]
    },
    {
      "cell_type": "code",
      "metadata": {
        "colab": {
          "base_uri": "https://localhost:8080/",
          "height": 498
        },
        "id": "6Ho4sEAjde_A",
        "outputId": "94af28d5-2e96-4417-afb5-0ea0e3e5d96b"
      },
      "source": [
        "state_list=[]\n",
        "sns.set(rc={'figure.figsize':(7.7,7.27)})\n",
        "def most_murderous(year):\n",
        "    murder_rates=df.to_df()\n",
        "    selected_year=murder_rates.loc[murder_rates[\"Year\"]==year]\n",
        "    selected_year=selected_year.sort_values(\"Murder Rate\",ascending=False)\n",
        "    selected_year=selected_year.head()\n",
        "    barplot=plt.axes()\n",
        "    barplot.set_facecolor('Black')\n",
        "    plt.title(\"Top 5 highest Murder rate states in the Year {}\".format(year),size=15)\n",
        "    plt.xlabel(\"Murder rates\",size=15)\n",
        "    plt.barh(selected_year[\"State\"],selected_year[\"Murder Rate\"],color=['Yellow', 'red', 'green', 'blue', 'orange'])\n",
        "    state_list=list(selected_year['State'])\n",
        "    print(state_list[::-1])\n",
        "                     \n",
        "\n",
        "most_murderous(1964)"
      ],
      "execution_count": null,
      "outputs": [
        {
          "output_type": "stream",
          "text": [
            "['Florida', 'Alabama', 'Mississippi', 'Alaska', 'Georgia']\n"
          ],
          "name": "stdout"
        },
        {
          "output_type": "display_data",
          "data": {
            "image/png": "[encoded data removed]",
            "text/plain": [
              "<Figure size 554.4x523.44 with 1 Axes>"
            ]
          },
          "metadata": {
            "tags": []
          }
        }
      ]
    },
    {
      "cell_type": "markdown",
      "metadata": {
        "id": "ewY4d4UOrVl-"
      },
      "source": [
        "Question 1.4.How  many  more  people  were  murdered  in  California  in  1988  than  in  1975?   Assigncachangeto the answer."
      ]
    },
    {
      "cell_type": "code",
      "metadata": {
        "colab": {
          "base_uri": "https://localhost:8080/"
        },
        "id": "ZjwMBIQItblr",
        "outputId": "3ff77c7d-e212-414e-e815-c73cec9eb64f"
      },
      "source": [
        "murder_rates=df.to_df()\n",
        "california_1988=murder_rates[(murder_rates['State']=='California') & (murder_rates['Year']==1988)]\n",
        "california_1975=murder_rates[(murder_rates['State']=='California') & (murder_rates['Year']==1975)]\n",
        "no_of_murders=(int((california_1988[\"Murder Rate\"]*california_1988[\"Population\"])/100000)-int((california_1975[\"Murder Rate\"]*california_1975[\"Population\"])/100000))\n",
        "print(\"{} more murders happened in the year 1988 than in 1975\".format(no_of_murders))"
      ],
      "execution_count": null,
      "outputs": [
        {
          "output_type": "stream",
          "text": [
            "726 more murders happened in the year 1988 than in 1975\n"
          ],
          "name": "stdout"
        }
      ]
    },
    {
      "cell_type": "markdown",
      "metadata": {
        "id": "SJnYNHI8VuKv"
      },
      "source": [
        "Question 2.1.  Implement the function twoyearchanges that takes an array of murder rates for a state,ordered by increasing year.  For all two-year periods (e.g., from 1960 to 1962), it computes and returns the number of increases minus the number of decreases."
      ]
    },
    {
      "cell_type": "code",
      "metadata": {
        "id": "oYZCd8INVyu8"
      },
      "source": [
        "def diff_n(values, n):\n",
        "    return np.array(values)[n:] - np.array(values)[:-n]"
      ],
      "execution_count": null,
      "outputs": []
    },
    {
      "cell_type": "code",
      "metadata": {
        "colab": {
          "base_uri": "https://localhost:8080/"
        },
        "id": "OKcSFyrgXYuP",
        "outputId": "34ad1416-496e-4c15-9d44-c0de4122ed33"
      },
      "source": [
        "def two_year_changes(rates):\n",
        "  win_rate=diff_n(rates,2)\n",
        "  greater_than_zero=0\n",
        "  less_than_zero=0\n",
        "  for item in win_rate:\n",
        "    if item>0:\n",
        "      greater_than_zero+=1\n",
        "    elif item<0:\n",
        "      less_than_zero+=1\n",
        "    else:\n",
        "      pass\n",
        "  return greater_than_zero-less_than_zero\n",
        "\n",
        "print('Alaska:',    two_year_changes(ak.column('Alaska Murder rates')))\n",
        "print('Minnesota:', two_year_changes(mn.column('Minnesota Murder rates')))\n",
        "\n"
      ],
      "execution_count": null,
      "outputs": [
        {
          "output_type": "stream",
          "text": [
            "Alaska: -5\n",
            "Minnesota: 6\n"
          ],
          "name": "stdout"
        }
      ]
    },
    {
      "cell_type": "code",
      "metadata": {
        "colab": {
          "base_uri": "https://localhost:8080/",
          "height": 1000
        },
        "id": "tH907iaTbh4D",
        "outputId": "c0ef5281-df5c-4faf-fce5-efbffb8131ae"
      },
      "source": [
        "#2.2 Question 2.2.Assignchangesbystateto a table with one row per state that has two columns:  theState name and the Murder Ratetwoyearchangesstatistic computed across all years in our data setfor that state.\n",
        "state=[]\n",
        "def changes_by_state():\n",
        "  changeRate=[]\n",
        "  murder_rates=df.to_df()\n",
        "  two_year_changes_df=pd.DataFrame()  \n",
        "  for st in set(murder_rates['State']):\n",
        "    rate=murder_rates.loc[murder_rates['State']==st,'Murder Rate']\n",
        "    new_rate=two_year_changes(rate)\n",
        "    state.append(st)\n",
        "    changeRate.append(new_rate)\n",
        "  two_year_changes_df['State']=state\n",
        "  two_year_changes_df['Murder Rate two_year_changes']=changeRate\n",
        "  print(two_year_changes_df.sort_values('State'))\n",
        "  two_year_changes_df.hist(\"Murder Rate two_year_changes\", bins=np.arange(-11, 19, 2))\n",
        "  plt.title('Histogram of the Two_Year_Changes for the states')\n",
        "  plt.xlabel('Murder Rate of Two Years changes for states')\n",
        "  plt.ylabel('Percent per unit')\n",
        "  plt.show()\n",
        "  return two_year_changes_df['Murder Rate two_year_changes']\n",
        "\n",
        "changes_by_state()"
      ],
      "execution_count": null,
      "outputs": [
        {
          "output_type": "stream",
          "text": [
            "             State  Murder Rate two_year_changes\n",
            "24         Alabama                            -6\n",
            "40          Alaska                            -5\n",
            "34         Arizona                             1\n",
            "22        Arkansas                            -1\n",
            "18      California                            17\n",
            "20        Colorado                            -4\n",
            "25     Connecticut                             4\n",
            "48        Delaware                            -3\n",
            "49         Florida                            -6\n",
            "33         Georgia                            -3\n",
            "15          Hawaii                            -2\n",
            "10           Idaho                            -3\n",
            "31        Illinois                             8\n",
            "16         Indiana                             5\n",
            "0             Iowa                             4\n",
            "14          Kansas                             5\n",
            "23        Kentucky                            -6\n",
            "30       Louisiana                             8\n",
            "21           Maine                             5\n",
            "12        Maryland                             9\n",
            "39      Massachuse                             2\n",
            "8         Michigan                            -4\n",
            "11       Minnesota                             6\n",
            "29     Mississippi                            -2\n",
            "27        Missouri                             0\n",
            "13         Montana                             0\n",
            "38        Nebraska                             5\n",
            "42          Nevada                             5\n",
            "35   New Hampshire                            -3\n",
            "41      New Jersey                            10\n",
            "17      New Mexico                            -1\n",
            "9         New York                             3\n",
            "1   North Carolina                           -10\n",
            "5     North Dakota                             1\n",
            "45            Ohio                             3\n",
            "3         Oklahoma                             1\n",
            "46          Oregon                            -1\n",
            "37    Pennsylvania                             5\n",
            "4       Rhode Isla                             6\n",
            "32  South Carolina                           -11\n",
            "26    South Dakota                            -3\n",
            "43       Tennessee                            -2\n",
            "7            Texas                             2\n",
            "47            Utah                             5\n",
            "19         Vermont                            -1\n",
            "6         Virginia                            -8\n",
            "28      Washington                             6\n",
            "2    West Virginia                             3\n",
            "36       Wisconsin                             1\n",
            "44         Wyoming                             0\n"
          ],
          "name": "stdout"
        },
        {
          "output_type": "display_data",
          "data": {
            "image/png": "[encoded data removed]",
            "text/plain": [
              "<Figure size 554.4x523.44 with 1 Axes>"
            ]
          },
          "metadata": {
            "tags": []
          }
        },
        {
          "output_type": "execute_result",
          "data": {
            "text/plain": [
              "0      4\n",
              "1    -10\n",
              "2      3\n",
              "3      1\n",
              "4      6\n",
              "5      1\n",
              "6     -8\n",
              "7      2\n",
              "8     -4\n",
              "9      3\n",
              "10    -3\n",
              "11     6\n",
              "12     9\n",
              "13     0\n",
              "14     5\n",
              "15    -2\n",
              "16     5\n",
              "17    -1\n",
              "18    17\n",
              "19    -1\n",
              "20    -4\n",
              "21     5\n",
              "22    -1\n",
              "23    -6\n",
              "24    -6\n",
              "25     4\n",
              "26    -3\n",
              "27     0\n",
              "28     6\n",
              "29    -2\n",
              "30     8\n",
              "31     8\n",
              "32   -11\n",
              "33    -3\n",
              "34     1\n",
              "35    -3\n",
              "36     1\n",
              "37     5\n",
              "38     5\n",
              "39     2\n",
              "40    -5\n",
              "41    10\n",
              "42     5\n",
              "43    -2\n",
              "44     0\n",
              "45     3\n",
              "46    -1\n",
              "47     5\n",
              "48    -3\n",
              "49    -6\n",
              "Name: Murder Rate two_year_changes, dtype: int64"
            ]
          },
          "metadata": {
            "tags": []
          },
          "execution_count": 87
        }
      ]
    },
    {
      "cell_type": "markdown",
      "metadata": {
        "id": "CeQfsiXFgh2H"
      },
      "source": [
        "Question 2.3. Assign total_changes to the total increases minus the total decreases for all two-year periods and all states in our data set."
      ]
    },
    {
      "cell_type": "code",
      "metadata": {
        "colab": {
          "base_uri": "https://localhost:8080/",
          "height": 1000
        },
        "id": "V06Ncl97ftqA",
        "outputId": "f4739ef5-cc1c-4ebd-ceac-ba5dd896d5cd"
      },
      "source": [
        "changes=changes_by_state()\n",
        "print('total_changes is {}'.format(sum(changes)))"
      ],
      "execution_count": null,
      "outputs": [
        {
          "output_type": "stream",
          "text": [
            "             State  Murder Rate two_year_changes\n",
            "24         Alabama                            -6\n",
            "40          Alaska                            -5\n",
            "34         Arizona                             1\n",
            "22        Arkansas                            -1\n",
            "18      California                            17\n",
            "20        Colorado                            -4\n",
            "25     Connecticut                             4\n",
            "48        Delaware                            -3\n",
            "49         Florida                            -6\n",
            "33         Georgia                            -3\n",
            "15          Hawaii                            -2\n",
            "10           Idaho                            -3\n",
            "31        Illinois                             8\n",
            "16         Indiana                             5\n",
            "0             Iowa                             4\n",
            "14          Kansas                             5\n",
            "23        Kentucky                            -6\n",
            "30       Louisiana                             8\n",
            "21           Maine                             5\n",
            "12        Maryland                             9\n",
            "39      Massachuse                             2\n",
            "8         Michigan                            -4\n",
            "11       Minnesota                             6\n",
            "29     Mississippi                            -2\n",
            "27        Missouri                             0\n",
            "13         Montana                             0\n",
            "38        Nebraska                             5\n",
            "42          Nevada                             5\n",
            "35   New Hampshire                            -3\n",
            "41      New Jersey                            10\n",
            "17      New Mexico                            -1\n",
            "9         New York                             3\n",
            "1   North Carolina                           -10\n",
            "5     North Dakota                             1\n",
            "45            Ohio                             3\n",
            "3         Oklahoma                             1\n",
            "46          Oregon                            -1\n",
            "37    Pennsylvania                             5\n",
            "4       Rhode Isla                             6\n",
            "32  South Carolina                           -11\n",
            "26    South Dakota                            -3\n",
            "43       Tennessee                            -2\n",
            "7            Texas                             2\n",
            "47            Utah                             5\n",
            "19         Vermont                            -1\n",
            "6         Virginia                            -8\n",
            "28      Washington                             6\n",
            "2    West Virginia                             3\n",
            "36       Wisconsin                             1\n",
            "44         Wyoming                             0\n"
          ],
          "name": "stdout"
        },
        {
          "output_type": "display_data",
          "data": {
            "image/png": "[encoded data removed]",
            "text/plain": [
              "<Figure size 554.4x523.44 with 1 Axes>"
            ]
          },
          "metadata": {
            "tags": []
          }
        },
        {
          "output_type": "stream",
          "text": [
            "total_changes is 45\n"
          ],
          "name": "stdout"
        }
      ]
    },
    {
      "cell_type": "code",
      "metadata": {
        "colab": {
          "base_uri": "https://localhost:8080/"
        },
        "id": "ulh1zQxDmT2S",
        "outputId": "6f2bf869-b39a-45ca-8208-45dd3011c88e"
      },
      "source": [
        "#2.4 Question 2.4.Setnumchangesto the number of different two-year periods in the entire data set thatcould result in a change of a state’s murder rate.  Include both those periods where a change occurredand the periods where a state’s rate happened to stay the same.\n",
        "state=list(set(state))\n",
        "pds = make_array() \n",
        "for i in np.arange(len(state)): \n",
        "    pd = df.where(\"State\", state[i]).num_rows-2 \n",
        "    pds = np.append(pds, pd) \n",
        "    \n",
        "num_changes1 = sum(pds)\n",
        "print(\"Num_changes :\",num_changes1)"
      ],
      "execution_count": null,
      "outputs": [
        {
          "output_type": "stream",
          "text": [
            "Num_changes : 2100.0\n"
          ],
          "name": "stdout"
        }
      ]
    },
    {
      "cell_type": "code",
      "metadata": {
        "colab": {
          "base_uri": "https://localhost:8080/",
          "height": 108
        },
        "id": "1scvXd0cqYC4",
        "outputId": "e873ee8d-37b7-428e-f41e-e7f5f5f33949"
      },
      "source": [
        "#2.5 Question 2.5.  Given these null and alternative hypotheses, define a good test statistic.\n",
        "uniform = Table().with_columns(\n",
        "    \"Change\", make_array('Increase', 'Decrease'),\n",
        "    \"Chance\", make_array(0.5,        0.5))\n",
        "uniform.sample_from_distribution('Chance', 100)"
      ],
      "execution_count": null,
      "outputs": [
        {
          "output_type": "execute_result",
          "data": {
            "text/html": [
              "<table border=\"1\" class=\"dataframe\">\n",
              "    <thead>\n",
              "        <tr>\n",
              "            <th>Change</th> <th>Chance</th> <th>Chance sample</th>\n",
              "        </tr>\n",
              "    </thead>\n",
              "    <tbody>\n",
              "        <tr>\n",
              "            <td>Increase</td> <td>0.5   </td> <td>45           </td>\n",
              "        </tr>\n",
              "        <tr>\n",
              "            <td>Decrease</td> <td>0.5   </td> <td>55           </td>\n",
              "        </tr>\n",
              "    </tbody>\n",
              "</table>"
            ],
            "text/plain": [
              "Change   | Chance | Chance sample\n",
              "Increase | 0.5    | 45\n",
              "Decrease | 0.5    | 55"
            ]
          },
          "metadata": {
            "tags": []
          },
          "execution_count": 24
        }
      ]
    },
    {
      "cell_type": "code",
      "metadata": {
        "colab": {
          "base_uri": "https://localhost:8080/",
          "height": 378
        },
        "id": "JBUpoFeZrYbL",
        "outputId": "47e47f2f-ebfc-4958-deab-a072b9ddbcce"
      },
      "source": [
        "# 2.6. Complete the simulation below, which samples num_changes increases/decreases at random many times and forms an empirical distribution of your test statistic under the null hypothesis\n",
        "\n",
        "def simulate_under_null(num_chances_to_change):\n",
        "    return uniform.sample_from_distribution('Chance', 100).column(2).item(0) - uniform.sample_from_distribution('Chance', 100).column(2).item(1)\n",
        "\n",
        "uniform_samples = make_array()\n",
        "for i in np.arange(5000):\n",
        "    uniform_samples = np.append(uniform_samples, simulate_under_null(num_changes1)) \n",
        "\n",
        "simulated_changes = Table().with_column('Test statistic under null', uniform_samples) \n",
        "simulated_changes"
      ],
      "execution_count": null,
      "outputs": [
        {
          "output_type": "execute_result",
          "data": {
            "text/html": [
              "<table border=\"1\" class=\"dataframe\">\n",
              "    <thead>\n",
              "        <tr>\n",
              "            <th>Test statistic under null</th>\n",
              "        </tr>\n",
              "    </thead>\n",
              "    <tbody>\n",
              "        <tr>\n",
              "            <td>6                        </td>\n",
              "        </tr>\n",
              "        <tr>\n",
              "            <td>11                       </td>\n",
              "        </tr>\n",
              "        <tr>\n",
              "            <td>-20                      </td>\n",
              "        </tr>\n",
              "        <tr>\n",
              "            <td>-3                       </td>\n",
              "        </tr>\n",
              "        <tr>\n",
              "            <td>-2                       </td>\n",
              "        </tr>\n",
              "        <tr>\n",
              "            <td>-7                       </td>\n",
              "        </tr>\n",
              "        <tr>\n",
              "            <td>-3                       </td>\n",
              "        </tr>\n",
              "        <tr>\n",
              "            <td>4                        </td>\n",
              "        </tr>\n",
              "        <tr>\n",
              "            <td>-6                       </td>\n",
              "        </tr>\n",
              "        <tr>\n",
              "            <td>-13                      </td>\n",
              "        </tr>\n",
              "    </tbody>\n",
              "</table>\n",
              "<p>... (4990 rows omitted)</p>"
            ],
            "text/plain": [
              "Test statistic under null\n",
              "6\n",
              "11\n",
              "-20\n",
              "-3\n",
              "-2\n",
              "-7\n",
              "-3\n",
              "4\n",
              "-6\n",
              "-13\n",
              "... (4990 rows omitted)"
            ]
          },
          "metadata": {
            "tags": []
          },
          "execution_count": 29
        }
      ]
    },
    {
      "cell_type": "code",
      "metadata": {
        "colab": {
          "base_uri": "https://localhost:8080/",
          "height": 287
        },
        "id": "sPHySv6OsRtz",
        "outputId": "78f0b1b5-dba4-4416-e477-3ea3a2d6fcd1"
      },
      "source": [
        "#2.7 Question 2.7.Looking  at  this  histogram,  draw  a  conclusion  about  whether  murder  rates  basicallyincrease as often as they decrease.\n",
        "simulated_changes.hist(0, bins=np.arange(-100, 400+25, 25))"
      ],
      "execution_count": null,
      "outputs": [
        {
          "output_type": "display_data",
          "data": {
            "image/png": "[encoded data removed]",
            "text/plain": [
              "<Figure size 432x288 with 1 Axes>"
            ]
          },
          "metadata": {
            "tags": []
          }
        }
      ]
    },
    {
      "cell_type": "markdown",
      "metadata": {
        "id": "EJdjimARNACe"
      },
      "source": [
        "Question 3.2.We want to know whether the death penalty causes a change in the murder rate.  Whyis it not sufficient to compare murder rates in places and times when the death penalty was in force withplaces and times when it wasn’t?"
      ]
    },
    {
      "cell_type": "code",
      "metadata": {
        "colab": {
          "base_uri": "https://localhost:8080/",
          "height": 378
        },
        "id": "VjG_OFY7M9PD",
        "outputId": "1f1525d9-7397-4d40-8d7f-37edd1c923b7"
      },
      "source": [
        "# 3.2. knowing whether the death penalty causes a change in the murder rate\n",
        "\n",
        "non_death_penalty_states = make_array('Alaska', 'Hawaii', 'Maine', 'Michigan', 'Wisconsin', 'Minnesota')\n",
        "def had_death_penalty_in_1971(state):\n",
        "    \"\"\"Returns True if the argument is the name of a state that had the death penalty in 1971.\"\"\"\n",
        "    # The implementation of this function uses a bit of syntax\n",
        "    # we haven't seen before.  Just trust that it behaves as its\n",
        "    # documentation claims.\n",
        "    return state not in non_death_penalty_states\n",
        "\n",
        "states = df.group('State').select('State')\n",
        "death_penalty = states.with_column('Death Penalty', states.apply(had_death_penalty_in_1971, 0))\n",
        "death_penalty"
      ],
      "execution_count": null,
      "outputs": [
        {
          "output_type": "execute_result",
          "data": {
            "text/html": [
              "<table border=\"1\" class=\"dataframe\">\n",
              "    <thead>\n",
              "        <tr>\n",
              "            <th>State</th> <th>Death Penalty</th>\n",
              "        </tr>\n",
              "    </thead>\n",
              "    <tbody>\n",
              "        <tr>\n",
              "            <td>Alabama    </td> <td>True         </td>\n",
              "        </tr>\n",
              "        <tr>\n",
              "            <td>Alaska     </td> <td>False        </td>\n",
              "        </tr>\n",
              "        <tr>\n",
              "            <td>Arizona    </td> <td>True         </td>\n",
              "        </tr>\n",
              "        <tr>\n",
              "            <td>Arkansas   </td> <td>True         </td>\n",
              "        </tr>\n",
              "        <tr>\n",
              "            <td>California </td> <td>True         </td>\n",
              "        </tr>\n",
              "        <tr>\n",
              "            <td>Colorado   </td> <td>True         </td>\n",
              "        </tr>\n",
              "        <tr>\n",
              "            <td>Connecticut</td> <td>True         </td>\n",
              "        </tr>\n",
              "        <tr>\n",
              "            <td>Delaware   </td> <td>True         </td>\n",
              "        </tr>\n",
              "        <tr>\n",
              "            <td>Florida    </td> <td>True         </td>\n",
              "        </tr>\n",
              "        <tr>\n",
              "            <td>Georgia    </td> <td>True         </td>\n",
              "        </tr>\n",
              "    </tbody>\n",
              "</table>\n",
              "<p>... (40 rows omitted)</p>"
            ],
            "text/plain": [
              "State       | Death Penalty\n",
              "Alabama     | True\n",
              "Alaska      | False\n",
              "Arizona     | True\n",
              "Arkansas    | True\n",
              "California  | True\n",
              "Colorado    | True\n",
              "Connecticut | True\n",
              "Delaware    | True\n",
              "Florida     | True\n",
              "Georgia     | True\n",
              "... (40 rows omitted)"
            ]
          },
          "metadata": {
            "tags": []
          },
          "execution_count": 32
        }
      ]
    },
    {
      "cell_type": "code",
      "metadata": {
        "colab": {
          "base_uri": "https://localhost:8080/"
        },
        "id": "OTtZ-u76NNX-",
        "outputId": "4fe365b2-198e-4de2-f79b-dfca156e0047"
      },
      "source": [
        "num_death_penalty_states = death_penalty.where(\"Death Penalty\", are.equal_to(True)).num_rows\n",
        "num_death_penalty_states"
      ],
      "execution_count": null,
      "outputs": [
        {
          "output_type": "execute_result",
          "data": {
            "text/plain": [
              "44"
            ]
          },
          "metadata": {
            "tags": []
          },
          "execution_count": 33
        }
      ]
    },
    {
      "cell_type": "markdown",
      "metadata": {
        "id": "qMKr9zRMNsM2"
      },
      "source": [
        "Question 3.3.Assigndeathpenaltymurderratesto a table with the same columns and data asmurderrates, but that has only the rows for states that had the death penalty in 1971."
      ]
    },
    {
      "cell_type": "code",
      "metadata": {
        "colab": {
          "base_uri": "https://localhost:8080/",
          "height": 378
        },
        "id": "h67pXpo4NOU0",
        "outputId": "844139a1-22e9-4566-e4ac-0c0e86a69b3b"
      },
      "source": [
        "death_penalty_murder_rates = df.where(\"State\" , are.not_contained_in (non_death_penalty_states))\n",
        "death_penalty_murder_rates"
      ],
      "execution_count": null,
      "outputs": [
        {
          "output_type": "execute_result",
          "data": {
            "text/html": [
              "<table border=\"1\" class=\"dataframe\">\n",
              "    <thead>\n",
              "        <tr>\n",
              "            <th>State</th> <th>Year</th> <th>Population</th> <th>Murder Rate</th>\n",
              "        </tr>\n",
              "    </thead>\n",
              "    <tbody>\n",
              "        <tr>\n",
              "            <td>Alabama</td> <td>1960</td> <td>3,266,740 </td> <td>12.4       </td>\n",
              "        </tr>\n",
              "        <tr>\n",
              "            <td>Alabama</td> <td>1961</td> <td>3,302,000 </td> <td>12.9       </td>\n",
              "        </tr>\n",
              "        <tr>\n",
              "            <td>Alabama</td> <td>1962</td> <td>3,358,000 </td> <td>9.4        </td>\n",
              "        </tr>\n",
              "        <tr>\n",
              "            <td>Alabama</td> <td>1963</td> <td>3,347,000 </td> <td>10.2       </td>\n",
              "        </tr>\n",
              "        <tr>\n",
              "            <td>Alabama</td> <td>1964</td> <td>3,407,000 </td> <td>9.3        </td>\n",
              "        </tr>\n",
              "        <tr>\n",
              "            <td>Alabama</td> <td>1965</td> <td>3,462,000 </td> <td>11.4       </td>\n",
              "        </tr>\n",
              "        <tr>\n",
              "            <td>Alabama</td> <td>1966</td> <td>3,517,000 </td> <td>10.9       </td>\n",
              "        </tr>\n",
              "        <tr>\n",
              "            <td>Alabama</td> <td>1967</td> <td>3,540,000 </td> <td>11.7       </td>\n",
              "        </tr>\n",
              "        <tr>\n",
              "            <td>Alabama</td> <td>1968</td> <td>3,566,000 </td> <td>11.8       </td>\n",
              "        </tr>\n",
              "        <tr>\n",
              "            <td>Alabama</td> <td>1969</td> <td>3,531,000 </td> <td>13.7       </td>\n",
              "        </tr>\n",
              "    </tbody>\n",
              "</table>\n",
              "<p>... (1926 rows omitted)</p>"
            ],
            "text/plain": [
              "State   | Year | Population | Murder Rate\n",
              "Alabama | 1960 | 3,266,740  | 12.4\n",
              "Alabama | 1961 | 3,302,000  | 12.9\n",
              "Alabama | 1962 | 3,358,000  | 9.4\n",
              "Alabama | 1963 | 3,347,000  | 10.2\n",
              "Alabama | 1964 | 3,407,000  | 9.3\n",
              "Alabama | 1965 | 3,462,000  | 11.4\n",
              "Alabama | 1966 | 3,517,000  | 10.9\n",
              "Alabama | 1967 | 3,540,000  | 11.7\n",
              "Alabama | 1968 | 3,566,000  | 11.8\n",
              "Alabama | 1969 | 3,531,000  | 13.7\n",
              "... (1926 rows omitted)"
            ]
          },
          "metadata": {
            "tags": []
          },
          "execution_count": 34
        }
      ]
    },
    {
      "cell_type": "markdown",
      "metadata": {
        "id": "SajpLfEDOV63"
      },
      "source": [
        "Question 3.4.  Assignchanges72to the value of the test statistic for the years 1971 to 1973 and thestates indeathpenaltymurderrates."
      ]
    },
    {
      "cell_type": "code",
      "metadata": {
        "colab": {
          "base_uri": "https://localhost:8080/"
        },
        "id": "DW5spBc0OW_D",
        "outputId": "caac011d-1f4f-4101-e366-910143e7962d"
      },
      "source": [
        "win_rate=[]\n",
        "valid_states = death_penalty.where(1, True). column(0)\n",
        "year = death_penalty_murder_rates.where('Year', are.contained_in(make_array(1971, 1973)))\n",
        "increases_decreases = make_array()\n",
        "greater_than_zero=0\n",
        "less_than_zero=0\n",
        "print(valid_states)\n",
        "for x in np.arange(len(valid_states)):\n",
        "    state= valid_states.item(x)\n",
        "    change = np.diff(year.where('State', state).column('Murder Rate'))\n",
        "    win_rate.append(change)\n",
        "for item in win_rate:\n",
        "    if item>0:\n",
        "      greater_than_zero+=1\n",
        "    elif item<0:\n",
        "      less_than_zero+=1\n",
        "    else:\n",
        "      pass\n",
        "test_stat_72 = greater_than_zero-less_than_zero\n",
        "print('Increases minus decreases from 1971 to 1973:', test_stat_72)"
      ],
      "execution_count": null,
      "outputs": [
        {
          "output_type": "stream",
          "text": [
            "['Alabama' 'Arizona' 'Arkansas' 'California' 'Colorado' 'Connecticut'\n",
            " 'Delaware' 'Florida' 'Georgia' 'Idaho' 'Illinois' 'Indiana' 'Iowa'\n",
            " 'Kansas' 'Kentucky' 'Louisiana' 'Maryland' 'Massachuse' 'Mississippi'\n",
            " 'Missouri' 'Montana' 'Nebraska' 'Nevada' 'New Hampshire' 'New Jersey'\n",
            " 'New Mexico' 'New York' 'North Carolina' 'North Dakota' 'Ohio' 'Oklahoma'\n",
            " 'Oregon' 'Pennsylvania' 'Rhode Isla' 'South Carolina' 'South Dakota'\n",
            " 'Tennessee' 'Texas' 'Utah' 'Vermont' 'Virginia' 'Washington'\n",
            " 'West Virginia' 'Wyoming']\n",
            "Increases minus decreases from 1971 to 1973: 22\n"
          ],
          "name": "stdout"
        }
      ]
    },
    {
      "cell_type": "code",
      "metadata": {
        "colab": {
          "base_uri": "https://localhost:8080/",
          "height": 318
        },
        "id": "a1iopcl6sAPk",
        "outputId": "4cf8f06a-e795-42f7-9bd6-6f37ef66d5e8"
      },
      "source": [
        "#3.5 Question 3.5.Draw an empirical histogram of the statistic under the null hypothesis by simulatingthe test statistic 5,000 times.\n",
        "samples = make_array()\n",
        "for i in np.arange(5000):\n",
        "    samples = np.append(samples, simulate_under_null(44))\n",
        "# Feel free to change the bins if they don't make sense for your test statistic.\n",
        "Table().with_column('Test statistic under null', samples).hist(bins=np.arange(-4, 28+2, 2))\n",
        "plt.title('Histogram of the statistic under the null hypothesis')"
      ],
      "execution_count": null,
      "outputs": [
        {
          "output_type": "execute_result",
          "data": {
            "text/plain": [
              "Text(0.5, 1.0, 'Histogram of the statistic under the null hypothesis')"
            ]
          },
          "metadata": {
            "tags": []
          },
          "execution_count": 50
        },
        {
          "output_type": "display_data",
          "data": {
            "image/png": "[encoded data removed]",
            "text/plain": [
              "<Figure size 432x288 with 1 Axes>"
            ]
          },
          "metadata": {
            "tags": []
          }
        }
      ]
    },
    {
      "cell_type": "code",
      "metadata": {
        "colab": {
          "base_uri": "https://localhost:8080/"
        },
        "id": "k7B0ittXsTKI",
        "outputId": "55c1dcdc-1125-4af0-b44f-3741d2ceec30"
      },
      "source": [
        "#3.6 Question Complete the analysis as follows:1.  Compute a P-value.\n",
        "p = np.count_nonzero(samples>=test_stat_72)/5000\n",
        "p"
      ],
      "execution_count": null,
      "outputs": [
        {
          "output_type": "execute_result",
          "data": {
            "text/plain": [
              "0.0014"
            ]
          },
          "metadata": {
            "tags": []
          },
          "execution_count": 51
        }
      ]
    },
    {
      "cell_type": "code",
      "metadata": {
        "colab": {
          "base_uri": "https://localhost:8080/"
        },
        "id": "CM_e5AEV2C-s",
        "outputId": "6ba520ba-8358-44f8-8849-438a10f3c701"
      },
      "source": [
        "#4.1 Question 4.1.Implementruntest, which takes the following arguments:•A table of murder rates for certain states, sorted by state and year likemurderrates, and•the year when the analysis starts.  (The comparison group is two years later.)\n",
        "def run_test(rates, start_year):\n",
        "    num_states = rates.group('State').num_rows\n",
        "    end_year = start_year + 2\n",
        "    table_yrs = rates.where('Year', are.contained_in(make_array(start_year, end_year)))\n",
        "    win_rate=[]\n",
        "    greater_than_zero=0\n",
        "    less_than_zero=0\n",
        "    \n",
        "    for i in np.arange(num_states):\n",
        "        states = table_yrs.sort('State', distinct = True).column('State')\n",
        "        state= states.item(i)\n",
        "        change = np.diff(table_yrs.where('State', state).column('Murder Rate'))\n",
        "        win_rate.append(change)\n",
        "        \n",
        "    for item in win_rate:\n",
        "      if item>0:\n",
        "        greater_than_zero+=1\n",
        "      elif item<0:\n",
        "        less_than_zero+=1\n",
        "      else:\n",
        "        pass\n",
        "    observed_test_statistic = greater_than_zero - less_than_zero\n",
        "    \n",
        "    samples = make_array()\n",
        "    for i in np.arange(5000):\n",
        "        samples = np.append(samples, simulate_under_null(num_states))\n",
        "        \n",
        "    num_above_test_stat = np.count_nonzero(samples >= observed_test_statistic)\n",
        "    num_below_test_stat = np.count_nonzero(samples <= observed_test_statistic)\n",
        "    \n",
        "    if observed_test_statistic > 0:\n",
        "        p_value = num_above_test_stat/5000\n",
        "    elif observed_test_statistic < 0:\n",
        "        p_value = num_below_test_stat/5000\n",
        "        \n",
        "    \n",
        "    print('Test statistic', start_year, 'to', end_year, ':', observed_test_statistic)\n",
        "    return p_value\n",
        "    \n",
        "run_test(death_penalty_murder_rates, 1971)\n",
        "p"
      ],
      "execution_count": null,
      "outputs": [
        {
          "output_type": "stream",
          "text": [
            "Test statistic 1971 to 1973 : 22\n"
          ],
          "name": "stdout"
        },
        {
          "output_type": "execute_result",
          "data": {
            "text/plain": [
              "0.0014"
            ]
          },
          "metadata": {
            "tags": []
          },
          "execution_count": 52
        }
      ]
    },
    {
      "cell_type": "code",
      "metadata": {
        "colab": {
          "base_uri": "https://localhost:8080/"
        },
        "id": "rIjwiKVj6TYh",
        "outputId": "513085cc-198c-4d60-d00c-44ffa2dfc695"
      },
      "source": [
        "#5.1 Question 5.1.Create a table calledaveragemurderrateswith 1 row for each year inmurderrates.  Itshould have 3 columns:\n",
        "import pandas as pnd\n",
        "valid_states_df=df_pd.loc[df_pd['State'].isin(valid_states)]\n",
        "valid_states_df=pd.DataFrame(valid_states_df.groupby('Year')['Murder Rate'].mean())\n",
        "invalid_states_df=df_pd.loc[df_pd['State'].isin(non_death_penalty_states)]\n",
        "invalid_states_df=pd.DataFrame(invalid_states_df.groupby('Year')['Murder Rate'].mean())\n",
        "valid_states_df.reset_index()\n",
        "invalid_states_df.reset_index()\n",
        "average_murder_rates=valid_states_df.merge(invalid_states_df,on='Year')\n",
        "average_murder_rates=average_murder_rates.reset_index()\n",
        "average_murder_rates.columns=['Year','Death states','Non death states']\n",
        "print(average_murder_rates)"
      ],
      "execution_count": null,
      "outputs": [
        {
          "output_type": "stream",
          "text": [
            "    Year  Death states  Non death states\n",
            "0   1960      5.279545          3.550000\n",
            "1   1961      4.777273          3.683333\n",
            "2   1962      4.615909          2.333333\n",
            "3   1963      4.613636          2.750000\n",
            "4   1964      4.711364          3.400000\n",
            "5   1965      4.827273          3.183333\n",
            "6   1966      5.431818          4.516667\n",
            "7   1967      5.875000          3.733333\n",
            "8   1968      6.270455          4.733333\n",
            "9   1969      6.502273          4.733333\n",
            "10  1970      7.147727          5.116667\n",
            "11  1971      7.513636          6.066667\n",
            "12  1972      7.765909          6.300000\n",
            "13  1973      8.120455          5.800000\n",
            "14  1974      8.554545          7.300000\n",
            "15  1975      8.454545          6.866667\n",
            "16  1976      7.552273          6.100000\n",
            "17  1977      7.659091          5.866667\n",
            "18  1978      7.752273          6.233333\n",
            "19  1979      8.279545          6.350000\n",
            "20  1980      8.463636          6.016667\n",
            "21  1981      8.129545          6.250000\n",
            "22  1982      7.588636          6.366667\n",
            "23  1983      6.736364          6.000000\n",
            "24  1984      6.336364          5.100000\n",
            "25  1985      6.472727          5.400000\n",
            "26  1986      6.965909          5.383333\n",
            "27  1987      6.529546          5.950000\n",
            "28  1988      6.663636          4.916667\n",
            "29  1989      6.738636          5.466667\n",
            "30  1990      7.297727          5.266667\n",
            "31  1991      7.588636          5.200000\n",
            "32  1992      7.286364          5.066667\n",
            "33  1993      7.604545          5.333333\n",
            "34  1994      7.345455          5.050000\n",
            "35  1995      6.911364          5.416667\n",
            "36  1996      6.450000          4.650000\n",
            "37  1997      5.961364          4.916667\n",
            "38  1998      5.661364          4.050000\n",
            "39  1999      5.109091          4.550000\n",
            "40  2000      4.788636          3.566667\n",
            "41  2001      4.786364          3.800000\n",
            "42  2002      4.836364          3.316667\n",
            "43  2003      4.915909          3.466667\n"
          ],
          "name": "stdout"
        }
      ]
    },
    {
      "cell_type": "code",
      "metadata": {
        "colab": {
          "base_uri": "https://localhost:8080/",
          "height": 495
        },
        "id": "molvFXpzBlFP",
        "outputId": "649c877b-9c5e-4261-d337-4080ce366f34"
      },
      "source": [
        "#5.2 Question 5.2.Describe in one short sentence a high-level takeaway from the line plot below.  Are themurder rates in these two groups of states related?averagemurderrates.plot(’Year’).6\n",
        "average_murder_rates.plot('Year')\n",
        "plt.title('Line plot of average murder rates')\n",
        "plt.xlabel('Year')\n",
        "plt.ylabel('Mean Rate')"
      ],
      "execution_count": null,
      "outputs": [
        {
          "output_type": "execute_result",
          "data": {
            "text/plain": [
              "Text(0, 0.5, 'Mean Rate')"
            ]
          },
          "metadata": {
            "tags": []
          },
          "execution_count": 82
        },
        {
          "output_type": "display_data",
          "data": {
            "image/png": "[encoded data removed]",
            "text/plain": [
              "<Figure size 554.4x523.44 with 1 Axes>"
            ]
          },
          "metadata": {
            "tags": []
          }
        }
      ]
    },
    {
      "cell_type": "code",
      "metadata": {
        "colab": {
          "base_uri": "https://localhost:8080/",
          "height": 285
        },
        "id": "m-itd3GjCUXp",
        "outputId": "61c0bcde-f474-4152-904c-52d3e81dddf1"
      },
      "source": [
        "#5.3 Question 5.3.Complete their argument in 2-3 sentences;  what features of these plots indicate thatthe death penalty is not an important factor in determining the murder rate?  (If you’re stuck, read thepaper.)\n",
        "canada = Table.read_table('canada.csv')\n",
        "average_murder_rates=Table.from_df(average_murder_rates)\n",
        "murder_rates_with_canada = average_murder_rates.join(\"Year\", canada.select(\"Year\", \"Homicide\").relabeled(\"Homicide\", \"Canada\"))\n",
        "murder_rates_with_canada.plot('Year')"
      ],
      "execution_count": null,
      "outputs": [
        {
          "output_type": "display_data",
          "data": {
            "image/png": "[encoded data removed]",
            "text/plain": [
              "<Figure size 432x288 with 1 Axes>"
            ]
          },
          "metadata": {
            "tags": []
          }
        }
      ]
    }
  ]
}