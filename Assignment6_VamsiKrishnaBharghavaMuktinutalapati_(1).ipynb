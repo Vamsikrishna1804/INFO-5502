{
  "nbformat": 4,
  "nbformat_minor": 0,
  "metadata": {
    "colab": {
      "name": "Assignment6_VamsiKrishnaBharghavaMuktinutalapati (1).ipynb",
      "provenance": [],
      "collapsed_sections": [],
      "include_colab_link": true
    },
    "kernelspec": {
      "name": "python3",
      "display_name": "Python 3"
    },
    "language_info": {
      "name": "python"
    }
  },
  "cells": [
    {
      "cell_type": "markdown",
      "metadata": {
        "id": "view-in-github",
        "colab_type": "text"
      },
      "source": [
        "<a href=\"https://colab.research.google.com/github/Vamsikrishna1804/INFO-5502/blob/main/Assignment6_VamsiKrishnaBharghavaMuktinutalapati_(1).ipynb\" target=\"_parent\"><img src=\"https://colab.research.google.com/assets/colab-badge.svg\" alt=\"Open In Colab\"/></a>"
      ]
    },
    {
      "cell_type": "code",
      "metadata": {
        "id": "ylBFLh4m-suW"
      },
      "source": [
        "#Importing Necessary Libraries\n",
        "\n",
        "import pandas as pd\n",
        "import numpy as np\n",
        "import datascience as ds\n",
        "from datascience import *\n",
        "import matplotlib\n",
        "import matplotlib.pyplot as plt\n",
        "import warnings\n",
        "warnings.simplefilter('ignore', FutureWarning)\n",
        "\n",
        "\n"
      ],
      "execution_count": null,
      "outputs": []
    },
    {
      "cell_type": "code",
      "metadata": {
        "colab": {
          "base_uri": "https://localhost:8080/"
        },
        "id": "NcHOVd1oFFff",
        "outputId": "e81a2484-4c8d-48ec-febd-5781224ab594"
      },
      "source": [
        "pip install datascience"
      ],
      "execution_count": null,
      "outputs": [
        {
          "output_type": "stream",
          "text": [
            "Requirement already satisfied: datascience in /usr/local/lib/python3.7/dist-packages (0.10.6)\n",
            "Requirement already satisfied: coverage==3.7.1 in /usr/local/lib/python3.7/dist-packages (from datascience) (3.7.1)\n",
            "Requirement already satisfied: pytest in /usr/local/lib/python3.7/dist-packages (from datascience) (3.6.4)\n",
            "Requirement already satisfied: sphinx in /usr/local/lib/python3.7/dist-packages (from datascience) (1.8.5)\n",
            "Requirement already satisfied: setuptools in /usr/local/lib/python3.7/dist-packages (from datascience) (57.2.0)\n",
            "Requirement already satisfied: folium==0.2.1 in /usr/local/lib/python3.7/dist-packages (from datascience) (0.2.1)\n",
            "Requirement already satisfied: coveralls==0.5 in /usr/local/lib/python3.7/dist-packages (from datascience) (0.5)\n",
            "Requirement already satisfied: PyYAML>=3.10 in /usr/local/lib/python3.7/dist-packages (from coveralls==0.5->datascience) (3.13)\n",
            "Requirement already satisfied: docopt>=0.6.1 in /usr/local/lib/python3.7/dist-packages (from coveralls==0.5->datascience) (0.6.2)\n",
            "Requirement already satisfied: requests>=1.0.0 in /usr/local/lib/python3.7/dist-packages (from coveralls==0.5->datascience) (2.23.0)\n",
            "Requirement already satisfied: Jinja2 in /usr/local/lib/python3.7/dist-packages (from folium==0.2.1->datascience) (2.11.3)\n",
            "Requirement already satisfied: chardet<4,>=3.0.2 in /usr/local/lib/python3.7/dist-packages (from requests>=1.0.0->coveralls==0.5->datascience) (3.0.4)\n",
            "Requirement already satisfied: idna<3,>=2.5 in /usr/local/lib/python3.7/dist-packages (from requests>=1.0.0->coveralls==0.5->datascience) (2.10)\n",
            "Requirement already satisfied: certifi>=2017.4.17 in /usr/local/lib/python3.7/dist-packages (from requests>=1.0.0->coveralls==0.5->datascience) (2021.5.30)\n",
            "Requirement already satisfied: urllib3!=1.25.0,!=1.25.1,<1.26,>=1.21.1 in /usr/local/lib/python3.7/dist-packages (from requests>=1.0.0->coveralls==0.5->datascience) (1.24.3)\n",
            "Requirement already satisfied: MarkupSafe>=0.23 in /usr/local/lib/python3.7/dist-packages (from Jinja2->folium==0.2.1->datascience) (2.0.1)\n",
            "Requirement already satisfied: atomicwrites>=1.0 in /usr/local/lib/python3.7/dist-packages (from pytest->datascience) (1.4.0)\n",
            "Requirement already satisfied: py>=1.5.0 in /usr/local/lib/python3.7/dist-packages (from pytest->datascience) (1.10.0)\n",
            "Requirement already satisfied: attrs>=17.4.0 in /usr/local/lib/python3.7/dist-packages (from pytest->datascience) (21.2.0)\n",
            "Requirement already satisfied: more-itertools>=4.0.0 in /usr/local/lib/python3.7/dist-packages (from pytest->datascience) (8.8.0)\n",
            "Requirement already satisfied: pluggy<0.8,>=0.5 in /usr/local/lib/python3.7/dist-packages (from pytest->datascience) (0.7.1)\n",
            "Requirement already satisfied: six>=1.10.0 in /usr/local/lib/python3.7/dist-packages (from pytest->datascience) (1.15.0)\n",
            "Requirement already satisfied: Pygments>=2.0 in /usr/local/lib/python3.7/dist-packages (from sphinx->datascience) (2.6.1)\n",
            "Requirement already satisfied: docutils>=0.11 in /usr/local/lib/python3.7/dist-packages (from sphinx->datascience) (0.17.1)\n",
            "Requirement already satisfied: babel!=2.0,>=1.3 in /usr/local/lib/python3.7/dist-packages (from sphinx->datascience) (2.9.1)\n",
            "Requirement already satisfied: snowballstemmer>=1.1 in /usr/local/lib/python3.7/dist-packages (from sphinx->datascience) (2.1.0)\n",
            "Requirement already satisfied: imagesize in /usr/local/lib/python3.7/dist-packages (from sphinx->datascience) (1.2.0)\n",
            "Requirement already satisfied: alabaster<0.8,>=0.7 in /usr/local/lib/python3.7/dist-packages (from sphinx->datascience) (0.7.12)\n",
            "Requirement already satisfied: sphinxcontrib-websupport in /usr/local/lib/python3.7/dist-packages (from sphinx->datascience) (1.2.4)\n",
            "Requirement already satisfied: packaging in /usr/local/lib/python3.7/dist-packages (from sphinx->datascience) (21.0)\n",
            "Requirement already satisfied: pytz>=2015.7 in /usr/local/lib/python3.7/dist-packages (from babel!=2.0,>=1.3->sphinx->datascience) (2018.9)\n",
            "Requirement already satisfied: pyparsing>=2.0.2 in /usr/local/lib/python3.7/dist-packages (from packaging->sphinx->datascience) (2.4.7)\n",
            "Requirement already satisfied: sphinxcontrib-serializinghtml in /usr/local/lib/python3.7/dist-packages (from sphinxcontrib-websupport->sphinx->datascience) (1.1.5)\n"
          ],
          "name": "stdout"
        }
      ]
    },
    {
      "cell_type": "code",
      "metadata": {
        "colab": {
          "base_uri": "https://localhost:8080/",
          "height": 200
        },
        "id": "0eCs_XzLDhVH",
        "outputId": "47d2ecf0-b12d-4ada-c5d8-5c18e2102325"
      },
      "source": [
        "restaurant_data=pd.read_csv('restaurant_inspection_scores.csv')\n",
        "restaurant_data.head()"
      ],
      "execution_count": null,
      "outputs": [
        {
          "output_type": "execute_result",
          "data": {
            "text/html": [
              "<div>\n",
              "<style scoped>\n",
              "    .dataframe tbody tr th:only-of-type {\n",
              "        vertical-align: middle;\n",
              "    }\n",
              "\n",
              "    .dataframe tbody tr th {\n",
              "        vertical-align: top;\n",
              "    }\n",
              "\n",
              "    .dataframe thead th {\n",
              "        text-align: right;\n",
              "    }\n",
              "</style>\n",
              "<table border=\"1\" class=\"dataframe\">\n",
              "  <thead>\n",
              "    <tr style=\"text-align: right;\">\n",
              "      <th></th>\n",
              "      <th>Restaurant Name</th>\n",
              "      <th>Zip Code</th>\n",
              "      <th>Inspection Date</th>\n",
              "      <th>Score</th>\n",
              "      <th>Address</th>\n",
              "      <th>Facility ID</th>\n",
              "      <th>Process Description</th>\n",
              "    </tr>\n",
              "  </thead>\n",
              "  <tbody>\n",
              "    <tr>\n",
              "      <th>0</th>\n",
              "      <td>6M Grocery</td>\n",
              "      <td>78652</td>\n",
              "      <td>01/17/2014</td>\n",
              "      <td>90</td>\n",
              "      <td>805 W FM 1626 RD\\nAUSTIN, TX 78652\\n</td>\n",
              "      <td>2803436</td>\n",
              "      <td>Routine Inspection</td>\n",
              "    </tr>\n",
              "    <tr>\n",
              "      <th>1</th>\n",
              "      <td>6M Grocery</td>\n",
              "      <td>78652</td>\n",
              "      <td>04/27/2015</td>\n",
              "      <td>93</td>\n",
              "      <td>805 W FM 1626 RD\\nAUSTIN, TX 78652\\n</td>\n",
              "      <td>2803436</td>\n",
              "      <td>Routine Inspection</td>\n",
              "    </tr>\n",
              "    <tr>\n",
              "      <th>2</th>\n",
              "      <td>6M Grocery</td>\n",
              "      <td>78652</td>\n",
              "      <td>05/02/2016</td>\n",
              "      <td>88</td>\n",
              "      <td>805 W FM 1626 RD\\nAUSTIN, TX 78652\\n</td>\n",
              "      <td>2803436</td>\n",
              "      <td>Routine Inspection</td>\n",
              "    </tr>\n",
              "    <tr>\n",
              "      <th>3</th>\n",
              "      <td>6M Grocery</td>\n",
              "      <td>78652</td>\n",
              "      <td>07/25/2014</td>\n",
              "      <td>100</td>\n",
              "      <td>805 W FM 1626 RD\\nAUSTIN, TX 78652\\n</td>\n",
              "      <td>2803436</td>\n",
              "      <td>Routine Inspection</td>\n",
              "    </tr>\n",
              "    <tr>\n",
              "      <th>4</th>\n",
              "      <td>6M Grocery</td>\n",
              "      <td>78652</td>\n",
              "      <td>10/21/2015</td>\n",
              "      <td>87</td>\n",
              "      <td>805 W FM 1626 RD\\nAUSTIN, TX 78652\\n</td>\n",
              "      <td>2803436</td>\n",
              "      <td>Routine Inspection</td>\n",
              "    </tr>\n",
              "  </tbody>\n",
              "</table>\n",
              "</div>"
            ],
            "text/plain": [
              "  Restaurant Name Zip Code  ... Facility ID  Process Description\n",
              "0      6M Grocery    78652  ...     2803436   Routine Inspection\n",
              "1      6M Grocery    78652  ...     2803436   Routine Inspection\n",
              "2      6M Grocery    78652  ...     2803436   Routine Inspection\n",
              "3      6M Grocery    78652  ...     2803436   Routine Inspection\n",
              "4      6M Grocery    78652  ...     2803436   Routine Inspection\n",
              "\n",
              "[5 rows x 7 columns]"
            ]
          },
          "metadata": {
            "tags": []
          },
          "execution_count": 128
        }
      ]
    },
    {
      "cell_type": "code",
      "metadata": {
        "colab": {
          "base_uri": "https://localhost:8080/",
          "height": 378
        },
        "id": "mq4MDvhGFS1b",
        "outputId": "52d8f2b5-59bb-46bf-bf9b-c69307c6c4cb"
      },
      "source": [
        "restaurant_data=Table.read_table('restaurant_inspection_scores.csv').drop('Facility ID','Process Description')\n",
        "restaurant_data"
      ],
      "execution_count": null,
      "outputs": [
        {
          "output_type": "execute_result",
          "data": {
            "text/html": [
              "<table border=\"1\" class=\"dataframe\">\n",
              "    <thead>\n",
              "        <tr>\n",
              "            <th>Restaurant Name</th> <th>Zip Code</th> <th>Inspection Date</th> <th>Score</th> <th>Address</th>\n",
              "        </tr>\n",
              "    </thead>\n",
              "    <tbody>\n",
              "        <tr>\n",
              "            <td>6M Grocery     </td> <td>78652   </td> <td>01/17/2014     </td> <td>90   </td> <td>805 W FM 1626 RD\n",
              "AUSTIN, TX 78652\n",
              "     </td>\n",
              "        </tr>\n",
              "        <tr>\n",
              "            <td>6M Grocery     </td> <td>78652   </td> <td>04/27/2015     </td> <td>93   </td> <td>805 W FM 1626 RD\n",
              "AUSTIN, TX 78652\n",
              "     </td>\n",
              "        </tr>\n",
              "        <tr>\n",
              "            <td>6M Grocery     </td> <td>78652   </td> <td>05/02/2016     </td> <td>88   </td> <td>805 W FM 1626 RD\n",
              "AUSTIN, TX 78652\n",
              "     </td>\n",
              "        </tr>\n",
              "        <tr>\n",
              "            <td>6M Grocery     </td> <td>78652   </td> <td>07/25/2014     </td> <td>100  </td> <td>805 W FM 1626 RD\n",
              "AUSTIN, TX 78652\n",
              "     </td>\n",
              "        </tr>\n",
              "        <tr>\n",
              "            <td>6M Grocery     </td> <td>78652   </td> <td>10/21/2015     </td> <td>87   </td> <td>805 W FM 1626 RD\n",
              "AUSTIN, TX 78652\n",
              "     </td>\n",
              "        </tr>\n",
              "        <tr>\n",
              "            <td>6M Grocery     </td> <td>78652   </td> <td>12/15/2014     </td> <td>93   </td> <td>805 W FM 1626 RD\n",
              "AUSTIN, TX 78652\n",
              "     </td>\n",
              "        </tr>\n",
              "        <tr>\n",
              "            <td>7 Eleven #36575</td> <td>78660   </td> <td>01/25/2016     </td> <td>92   </td> <td>15829 N IH 35 SVRD NB\n",
              "AUSTIN, TX 78660\n",
              "</td>\n",
              "        </tr>\n",
              "        <tr>\n",
              "            <td>7 Eleven #36575</td> <td>78660   </td> <td>03/05/2015     </td> <td>86   </td> <td>15829 N IH 35 SVRD NB\n",
              "AUSTIN, TX 78660\n",
              "</td>\n",
              "        </tr>\n",
              "        <tr>\n",
              "            <td>7 Eleven #36575</td> <td>78660   </td> <td>03/14/2014     </td> <td>93   </td> <td>15829 N IH 35 SVRD NB\n",
              "AUSTIN, TX 78660\n",
              "</td>\n",
              "        </tr>\n",
              "        <tr>\n",
              "            <td>7 Eleven #36575</td> <td>78660   </td> <td>07/27/2015     </td> <td>97   </td> <td>15829 N IH 35 SVRD NB\n",
              "AUSTIN, TX 78660\n",
              "</td>\n",
              "        </tr>\n",
              "    </tbody>\n",
              "</table>\n",
              "<p>... (24357 rows omitted)</p>"
            ],
            "text/plain": [
              "Restaurant Name | Zip Code | Inspection Date | Score | Address\n",
              "6M Grocery      | 78652    | 01/17/2014      | 90    | 805 W FM 1626 RD\n",
              "AUSTIN, TX 78652\n",
              "6M Grocery      | 78652    | 04/27/2015      | 93    | 805 W FM 1626 RD\n",
              "AUSTIN, TX 78652\n",
              "6M Grocery      | 78652    | 05/02/2016      | 88    | 805 W FM 1626 RD\n",
              "AUSTIN, TX 78652\n",
              "6M Grocery      | 78652    | 07/25/2014      | 100   | 805 W FM 1626 RD\n",
              "AUSTIN, TX 78652\n",
              "6M Grocery      | 78652    | 10/21/2015      | 87    | 805 W FM 1626 RD\n",
              "AUSTIN, TX 78652\n",
              "6M Grocery      | 78652    | 12/15/2014      | 93    | 805 W FM 1626 RD\n",
              "AUSTIN, TX 78652\n",
              "7 Eleven #36575 | 78660    | 01/25/2016      | 92    | 15829 N IH 35 SVRD NB\n",
              "AUSTIN, TX 78660\n",
              "7 Eleven #36575 | 78660    | 03/05/2015      | 86    | 15829 N IH 35 SVRD NB\n",
              "AUSTIN, TX 78660\n",
              "7 Eleven #36575 | 78660    | 03/14/2014      | 93    | 15829 N IH 35 SVRD NB\n",
              "AUSTIN, TX 78660\n",
              "7 Eleven #36575 | 78660    | 07/27/2015      | 97    | 15829 N IH 35 SVRD NB\n",
              "AUSTIN, TX 78660\n",
              "... (24357 rows omitted)"
            ]
          },
          "metadata": {
            "tags": []
          },
          "execution_count": 129
        }
      ]
    },
    {
      "cell_type": "code",
      "metadata": {
        "colab": {
          "base_uri": "https://localhost:8080/",
          "height": 301
        },
        "id": "EB5TessyGGlU",
        "outputId": "a1a5978e-9c08-4381-a3d7-4c648bc71bc7"
      },
      "source": [
        "restaurant_data.hist('Score')"
      ],
      "execution_count": null,
      "outputs": [
        {
          "output_type": "display_data",
          "data": {
            "image/png": "[encoded data removed]",
            "text/plain": [
              "<Figure size 432x288 with 1 Axes>"
            ]
          },
          "metadata": {
            "tags": []
          }
        }
      ]
    },
    {
      "cell_type": "code",
      "metadata": {
        "colab": {
          "base_uri": "https://localhost:8080/"
        },
        "id": "9tITsMWVD4or",
        "outputId": "17dc570b-4e48-4504-93a3-b3a48d6b519d"
      },
      "source": [
        "Population_mean=np.mean(restaurant_data.column('Score'))\n",
        "Population_mean"
      ],
      "execution_count": null,
      "outputs": [
        {
          "output_type": "execute_result",
          "data": {
            "text/plain": [
              "91.40706693478886"
            ]
          },
          "metadata": {
            "tags": []
          },
          "execution_count": 131
        }
      ]
    },
    {
      "cell_type": "code",
      "metadata": {
        "colab": {
          "base_uri": "https://localhost:8080/",
          "height": 378
        },
        "id": "CR1fUt87JM4G",
        "outputId": "63cd9e36-fc54-4ff6-b7d0-292577f38ee1"
      },
      "source": [
        "restaurant_sample=restaurant_data.sample(100,with_replacement=False)\n",
        "restaurant_sample"
      ],
      "execution_count": null,
      "outputs": [
        {
          "output_type": "execute_result",
          "data": {
            "text/html": [
              "<table border=\"1\" class=\"dataframe\">\n",
              "    <thead>\n",
              "        <tr>\n",
              "            <th>Restaurant Name</th> <th>Zip Code</th> <th>Inspection Date</th> <th>Score</th> <th>Address</th>\n",
              "        </tr>\n",
              "    </thead>\n",
              "    <tbody>\n",
              "        <tr>\n",
              "            <td>Papa John's Pizza #4151    </td> <td>78750   </td> <td>01/30/2014     </td> <td>100  </td> <td>6507 JESTER BLVD Bunit 109\n",
              "AUSTIN, TX 78750\n",
              "(30.370254,  ...</td>\n",
              "        </tr>\n",
              "        <tr>\n",
              "            <td>RZN Enterprises Inc.       </td> <td>78757   </td> <td>06/07/2014     </td> <td>96   </td> <td>1700 W ANDERSON LN\n",
              "AUSTIN, TX 78757\n",
              "(30.352648, -97.723624) </td>\n",
              "        </tr>\n",
              "        <tr>\n",
              "            <td>Blue Note Bakery           </td> <td>78745   </td> <td>10/09/2015     </td> <td>100  </td> <td>4201 S CONGRESS AVE Unit 101\n",
              "AUSTIN, TX 78745\n",
              "(30.221101 ...</td>\n",
              "        </tr>\n",
              "        <tr>\n",
              "            <td>Smokey Mo's BBQ            </td> <td>78727   </td> <td>06/23/2016     </td> <td>90   </td> <td>6001 W PARMER LN Unit 360\n",
              "AUSTIN, TX 78727\n",
              "(30.442054, - ...</td>\n",
              "        </tr>\n",
              "        <tr>\n",
              "            <td>St. Gabriel Catholic School</td> <td>78735   </td> <td>05/21/2014     </td> <td>100  </td> <td>2500 WIMBERLY LN\n",
              "AUSTIN, TX 78735\n",
              "(30.291335, -97.873043)   </td>\n",
              "        </tr>\n",
              "        <tr>\n",
              "            <td>Starbucks Coffee #6368     </td> <td>78701   </td> <td>10/02/2015     </td> <td>97   </td> <td>501 W 15TH ST\n",
              "AUSTIN, TX 78701\n",
              "(30.278185, -97.744242)      </td>\n",
              "        </tr>\n",
              "        <tr>\n",
              "            <td>Nordstrom's E- Bar         </td> <td>78746   </td> <td>12/31/2015     </td> <td>93   </td> <td>2901 S CAPITAL OF TEXAS HWY NB\n",
              "AUSTIN, TX 78746\n",
              "(30.2546 ...</td>\n",
              "        </tr>\n",
              "        <tr>\n",
              "            <td>Comfort Suites Hotel       </td> <td>78744   </td> <td>08/05/2014     </td> <td>90   </td> <td>7501 E BEN WHITE BLVD EB\n",
              "AUSTIN, TX 78744\n",
              "(30.217064, -9 ...</td>\n",
              "        </tr>\n",
              "        <tr>\n",
              "            <td>Subway                     </td> <td>78731   </td> <td>01/15/2014     </td> <td>90   </td> <td>5521 BALCONES DR\n",
              "AUSTIN, TX 78731\n",
              "(30.336621, -97.757652)   </td>\n",
              "        </tr>\n",
              "        <tr>\n",
              "            <td>El Rancho #24 - Bakery     </td> <td>78723   </td> <td>12/30/2014     </td> <td>100  </td> <td>6800 BERKMAN DR\n",
              "AUSTIN, TX 78723\n",
              "(30.32023, -97.689045)     </td>\n",
              "        </tr>\n",
              "    </tbody>\n",
              "</table>\n",
              "<p>... (90 rows omitted)</p>"
            ],
            "text/plain": [
              "Restaurant Name             | Zip Code | Inspection Date | Score | Address\n",
              "Papa John's Pizza #4151     | 78750    | 01/30/2014      | 100   | 6507 JESTER BLVD Bunit 109\n",
              "AUSTIN, TX 78750\n",
              "(30.370254,  ...\n",
              "RZN Enterprises Inc.        | 78757    | 06/07/2014      | 96    | 1700 W ANDERSON LN\n",
              "AUSTIN, TX 78757\n",
              "(30.352648, -97.723624)\n",
              "Blue Note Bakery            | 78745    | 10/09/2015      | 100   | 4201 S CONGRESS AVE Unit 101\n",
              "AUSTIN, TX 78745\n",
              "(30.221101 ...\n",
              "Smokey Mo's BBQ             | 78727    | 06/23/2016      | 90    | 6001 W PARMER LN Unit 360\n",
              "AUSTIN, TX 78727\n",
              "(30.442054, - ...\n",
              "St. Gabriel Catholic School | 78735    | 05/21/2014      | 100   | 2500 WIMBERLY LN\n",
              "AUSTIN, TX 78735\n",
              "(30.291335, -97.873043)\n",
              "Starbucks Coffee #6368      | 78701    | 10/02/2015      | 97    | 501 W 15TH ST\n",
              "AUSTIN, TX 78701\n",
              "(30.278185, -97.744242)\n",
              "Nordstrom's E- Bar          | 78746    | 12/31/2015      | 93    | 2901 S CAPITAL OF TEXAS HWY NB\n",
              "AUSTIN, TX 78746\n",
              "(30.2546 ...\n",
              "Comfort Suites Hotel        | 78744    | 08/05/2014      | 90    | 7501 E BEN WHITE BLVD EB\n",
              "AUSTIN, TX 78744\n",
              "(30.217064, -9 ...\n",
              "Subway                      | 78731    | 01/15/2014      | 90    | 5521 BALCONES DR\n",
              "AUSTIN, TX 78731\n",
              "(30.336621, -97.757652)\n",
              "El Rancho #24 - Bakery      | 78723    | 12/30/2014      | 100   | 6800 BERKMAN DR\n",
              "AUSTIN, TX 78723\n",
              "(30.32023, -97.689045)\n",
              "... (90 rows omitted)"
            ]
          },
          "metadata": {
            "tags": []
          },
          "execution_count": 132
        }
      ]
    },
    {
      "cell_type": "code",
      "metadata": {
        "colab": {
          "base_uri": "https://localhost:8080/",
          "height": 301
        },
        "id": "nAdA1Z9EJh0F",
        "outputId": "24c29287-6e0b-41cd-8fc0-dcfd848815a6"
      },
      "source": [
        "restaurant_sample.hist('Score')"
      ],
      "execution_count": null,
      "outputs": [
        {
          "output_type": "display_data",
          "data": {
            "image/png": "[encoded data removed]",
            "text/plain": [
              "<Figure size 432x288 with 1 Axes>"
            ]
          },
          "metadata": {
            "tags": []
          }
        }
      ]
    },
    {
      "cell_type": "code",
      "metadata": {
        "colab": {
          "base_uri": "https://localhost:8080/"
        },
        "id": "ENgAU02uJs5K",
        "outputId": "5f5cccf7-78c5-444f-808a-982fde3b6feb"
      },
      "source": [
        "sample_mean=np.mean(restaurant_sample.column('Score'))\n",
        "sample_mean"
      ],
      "execution_count": null,
      "outputs": [
        {
          "output_type": "execute_result",
          "data": {
            "text/plain": [
              "92.35"
            ]
          },
          "metadata": {
            "tags": []
          },
          "execution_count": 134
        }
      ]
    },
    {
      "cell_type": "markdown",
      "metadata": {
        "id": "_Gbop8XlKA-q"
      },
      "source": [
        "Question 1.1\n",
        "Complete the function one_resampled_mean below. It should take in an original table data, with a column Score, and return the mean score of one resampling from data.\n",
        "\n",
        "Remember to call your function and check the output before moving on to autograder tests."
      ]
    },
    {
      "cell_type": "code",
      "metadata": {
        "colab": {
          "base_uri": "https://localhost:8080/"
        },
        "id": "AjrrwRz2J7WN",
        "outputId": "9a57be82-f1b7-4eb4-c92d-444f3c19c943"
      },
      "source": [
        "def one_resampled_mean(data):\n",
        "    sampled_data=data.sample(100)\n",
        "    resampled_data=sampled_data.sample()\n",
        "    return(np.mean(resampled_data.column('Score')))\n",
        "\n",
        "one_resampled_mean(restaurant_data)"
      ],
      "execution_count": null,
      "outputs": [
        {
          "output_type": "execute_result",
          "data": {
            "text/plain": [
              "91.03"
            ]
          },
          "metadata": {
            "tags": []
          },
          "execution_count": 135
        }
      ]
    },
    {
      "cell_type": "markdown",
      "metadata": {
        "id": "WurU8y1JOpPL"
      },
      "source": [
        "1.2)Complete the function bootstrap_scores below. It should take no arguments. It should simulate drawing 5000 resamples from restaurant_sample and compute the mean restaurant score in each resample. It should return an array of those 5000 resample means."
      ]
    },
    {
      "cell_type": "code",
      "metadata": {
        "colab": {
          "base_uri": "https://localhost:8080/"
        },
        "id": "rKj_RlTCOoVh",
        "outputId": "7f999a44-724a-4fb2-dbdb-a3061ea3fd37"
      },
      "source": [
        "\n",
        "def bootstrap_scores():\n",
        "    resampled_means = ds.make_array()\n",
        "    for num in range(5000):\n",
        "        resampled_mean = np.mean(restaurant_sample.sample().column('Score'))\n",
        "        resampled_means = np.append(resampled_means, resampled_mean)\n",
        "    return resampled_means\n",
        "resampled_means = bootstrap_scores()\n",
        "print(resampled_means)\n",
        "print(len(resampled_means))"
      ],
      "execution_count": null,
      "outputs": [
        {
          "output_type": "stream",
          "text": [
            "[91.95 92.54 92.98 ... 91.58 92.97 91.11]\n",
            "5000\n"
          ],
          "name": "stdout"
        }
      ]
    },
    {
      "cell_type": "code",
      "metadata": {
        "colab": {
          "base_uri": "https://localhost:8080/",
          "height": 301
        },
        "id": "C791wqEySIFQ",
        "outputId": "d2b553f3-5177-4ce6-a71b-8701d9fae760"
      },
      "source": [
        "Table().with_column('Resampled Means', resampled_means).hist()"
      ],
      "execution_count": null,
      "outputs": [
        {
          "output_type": "display_data",
          "data": {
            "image/png": "[encoded data removed]",
            "text/plain": [
              "<Figure size 432x288 with 1 Axes>"
            ]
          },
          "metadata": {
            "tags": []
          }
        }
      ]
    },
    {
      "cell_type": "markdown",
      "metadata": {
        "id": "NRcb4H3JSN-Z"
      },
      "source": [
        "1.3) Compute a 95 percent confidence interval for the average restaurant score using the array resampled_means."
      ]
    },
    {
      "cell_type": "code",
      "metadata": {
        "colab": {
          "base_uri": "https://localhost:8080/"
        },
        "id": "b2AoQD35SQT3",
        "outputId": "e8b63fb1-9f8a-4b47-f039-c88bdafa6052"
      },
      "source": [
        "import scipy.stats as st\n",
        "#st.norm.interval(alpha=0.95, loc=np.mean(resampled_means), scale=st.sem(resampled_means))\n",
        "lower_bound =  ds.percentile(2.5, resampled_means)\n",
        "upper_bound =  ds.percentile(97.5, resampled_means)\n",
        "print(\"95% confidence interval for the average restaurant score, computed by bootstrapping:\\n(\",lower_bound, \",\", upper_bound, \")\")"
      ],
      "execution_count": null,
      "outputs": [
        {
          "output_type": "stream",
          "text": [
            "95% confidence interval for the average restaurant score, computed by bootstrapping:\n",
            "( 90.77 , 93.79 )\n"
          ],
          "name": "stdout"
        }
      ]
    },
    {
      "cell_type": "markdown",
      "metadata": {
        "id": "nPqnnqrrXNEE"
      },
      "source": [
        "1.6)Without referencing the array resampled_means or performing any new simulations, calculate an interval around the sample_mean that covers approximately 95% of the numbers in the resampled_means array. You may use the following values to compute your result, but you should not perform additional resampling - think about how you can use the CLT to accomplish this."
      ]
    },
    {
      "cell_type": "code",
      "metadata": {
        "colab": {
          "base_uri": "https://localhost:8080/"
        },
        "id": "a1tJM4RtWVDu",
        "outputId": "afb552c1-9444-487c-9ad2-218e6f3e3b32"
      },
      "source": [
        "sample_mean = np.mean(restaurant_sample.column('Score'))\n",
        "sample_sd = np.std(restaurant_sample.column('Score'))\n",
        "sample_size = restaurant_sample.num_rows\n",
        "\n",
        "sd_of_means = sample_sd / sample_size ** 0.5\n",
        "lower_bound_normal = sample_mean - 2 * sd_of_means\n",
        "upper_bound_normal = sample_mean + 2 * sd_of_means\n",
        "print(\"95% confidence interval for the average restaurant score, computed by a normal approximation:\\n(\",lower_bound_normal, \",\", upper_bound_normal, \")\")"
      ],
      "execution_count": null,
      "outputs": [
        {
          "output_type": "stream",
          "text": [
            "95% confidence interval for the average restaurant score, computed by a normal approximation:\n",
            "( 90.80951306399567 , 93.89048693600432 )\n"
          ],
          "name": "stdout"
        }
      ]
    },
    {
      "cell_type": "markdown",
      "metadata": {
        "id": "coHB_d7cbl1j"
      },
      "source": [
        "2.1)Define the function one_statistic_prop_heads \n",
        "which should return exactly one simulated statistic of the proportion of heads from n coin flips.\n"
      ]
    },
    {
      "cell_type": "code",
      "metadata": {
        "id": "2vz_jVTTcI9S"
      },
      "source": [
        "def samplecoin_proportions(n, coins_proportions):\n",
        "    uniform = ds.Table().with_columns(\n",
        "    \"Change\", ds.make_array('Heads','Tails'),\n",
        "    \"Chance\", coins_proportions)\n",
        "    return ds.make_array(uniform.sample_from_distribution('Chance', n).column('Chance sample').item(0), uniform.sample_from_distribution('Chance', n).column('Chance sample').item(1))"
      ],
      "execution_count": null,
      "outputs": []
    },
    {
      "cell_type": "code",
      "metadata": {
        "colab": {
          "base_uri": "https://localhost:8080/"
        },
        "id": "7FoqAjLcblDf",
        "outputId": "818d68ab-ca55-4f14-be74-22c6f924ff4a"
      },
      "source": [
        "#2.1\n",
        "coin_proportions = make_array(.5, .5) # our coin is fair\n",
        "\n",
        "\n",
        "def one_statistic_prop_heads(n):\n",
        "    simulated_proportions = samplecoin_proportions(n, coin_proportions)\n",
        "    prop_heads = simulated_proportions.item(0)\n",
        "    return prop_heads\n",
        "\n",
        "print(one_statistic_prop_heads(15))"
      ],
      "execution_count": null,
      "outputs": [
        {
          "output_type": "stream",
          "text": [
            "5\n"
          ],
          "name": "stdout"
        }
      ]
    },
    {
      "cell_type": "markdown",
      "metadata": {
        "id": "arc97M4KgQaP"
      },
      "source": [
        "2.2) Write a function called sample_size_n that takes in a sample size $n$. It should return an array that contains 5000 sample proportions of heads, each from $n$ coin flips."
      ]
    },
    {
      "cell_type": "code",
      "metadata": {
        "colab": {
          "base_uri": "https://localhost:8080/"
        },
        "id": "bETz4wILcSEF",
        "outputId": "1c6e3e07-3f2b-4922-9697-b36ec35b4543"
      },
      "source": [
        "def sample_size_n(n):\n",
        "    coin_proportions = ds.make_array(.5, .5)\n",
        "    heads_proportions = ds.make_array()\n",
        "    for num in np.arange(5000):\n",
        "        simulated_proportions = samplecoin_proportions(n, coin_proportions)\n",
        "        prop_heads = simulated_proportions.item(0)\n",
        "        heads_proportions = np.append(heads_proportions, prop_heads)\n",
        "    return heads_proportions\n",
        "\n",
        "sample_size_n(15)"
      ],
      "execution_count": null,
      "outputs": [
        {
          "output_type": "execute_result",
          "data": {
            "text/plain": [
              "array([10.,  5., 10., ...,  7.,  9.,  8.])"
            ]
          },
          "metadata": {
            "tags": []
          },
          "execution_count": 143
        }
      ]
    },
    {
      "cell_type": "markdown",
      "metadata": {
        "id": "t5BRSxcOhh__"
      },
      "source": [
        "2.3) Write a function called empirical_sample_mean_sd that takes a sample size n as its argument. The function should simulate 500 samples with replacement of size n from the flight delays dataset, and it should return the standard deviation of the means of those 500 samples."
      ]
    },
    {
      "cell_type": "code",
      "metadata": {
        "colab": {
          "base_uri": "https://localhost:8080/",
          "height": 408
        },
        "id": "pJIRyyjjhIOg",
        "outputId": "e54ad8d6-d88d-4285-a479-9daab4f0c676"
      },
      "source": [
        "flights_data=pd.read_csv('united_summer2015.csv')\n",
        "flights_data"
      ],
      "execution_count": null,
      "outputs": [
        {
          "output_type": "execute_result",
          "data": {
            "text/html": [
              "<div>\n",
              "<style scoped>\n",
              "    .dataframe tbody tr th:only-of-type {\n",
              "        vertical-align: middle;\n",
              "    }\n",
              "\n",
              "    .dataframe tbody tr th {\n",
              "        vertical-align: top;\n",
              "    }\n",
              "\n",
              "    .dataframe thead th {\n",
              "        text-align: right;\n",
              "    }\n",
              "</style>\n",
              "<table border=\"1\" class=\"dataframe\">\n",
              "  <thead>\n",
              "    <tr style=\"text-align: right;\">\n",
              "      <th></th>\n",
              "      <th>Date</th>\n",
              "      <th>Flight Number</th>\n",
              "      <th>Destination</th>\n",
              "      <th>Delay</th>\n",
              "    </tr>\n",
              "  </thead>\n",
              "  <tbody>\n",
              "    <tr>\n",
              "      <th>0</th>\n",
              "      <td>6/1/15</td>\n",
              "      <td>73</td>\n",
              "      <td>HNL</td>\n",
              "      <td>257</td>\n",
              "    </tr>\n",
              "    <tr>\n",
              "      <th>1</th>\n",
              "      <td>6/1/15</td>\n",
              "      <td>217</td>\n",
              "      <td>EWR</td>\n",
              "      <td>28</td>\n",
              "    </tr>\n",
              "    <tr>\n",
              "      <th>2</th>\n",
              "      <td>6/1/15</td>\n",
              "      <td>237</td>\n",
              "      <td>STL</td>\n",
              "      <td>-3</td>\n",
              "    </tr>\n",
              "    <tr>\n",
              "      <th>3</th>\n",
              "      <td>6/1/15</td>\n",
              "      <td>250</td>\n",
              "      <td>SAN</td>\n",
              "      <td>0</td>\n",
              "    </tr>\n",
              "    <tr>\n",
              "      <th>4</th>\n",
              "      <td>6/1/15</td>\n",
              "      <td>267</td>\n",
              "      <td>PHL</td>\n",
              "      <td>64</td>\n",
              "    </tr>\n",
              "    <tr>\n",
              "      <th>...</th>\n",
              "      <td>...</td>\n",
              "      <td>...</td>\n",
              "      <td>...</td>\n",
              "      <td>...</td>\n",
              "    </tr>\n",
              "    <tr>\n",
              "      <th>13820</th>\n",
              "      <td>8/31/15</td>\n",
              "      <td>1978</td>\n",
              "      <td>LAS</td>\n",
              "      <td>-4</td>\n",
              "    </tr>\n",
              "    <tr>\n",
              "      <th>13821</th>\n",
              "      <td>8/31/15</td>\n",
              "      <td>1993</td>\n",
              "      <td>IAD</td>\n",
              "      <td>8</td>\n",
              "    </tr>\n",
              "    <tr>\n",
              "      <th>13822</th>\n",
              "      <td>8/31/15</td>\n",
              "      <td>1994</td>\n",
              "      <td>ORD</td>\n",
              "      <td>3</td>\n",
              "    </tr>\n",
              "    <tr>\n",
              "      <th>13823</th>\n",
              "      <td>8/31/15</td>\n",
              "      <td>2000</td>\n",
              "      <td>PHX</td>\n",
              "      <td>-1</td>\n",
              "    </tr>\n",
              "    <tr>\n",
              "      <th>13824</th>\n",
              "      <td>8/31/15</td>\n",
              "      <td>2013</td>\n",
              "      <td>EWR</td>\n",
              "      <td>-2</td>\n",
              "    </tr>\n",
              "  </tbody>\n",
              "</table>\n",
              "<p>13825 rows × 4 columns</p>\n",
              "</div>"
            ],
            "text/plain": [
              "          Date  Flight Number Destination  Delay\n",
              "0       6/1/15             73         HNL    257\n",
              "1       6/1/15            217         EWR     28\n",
              "2       6/1/15            237         STL     -3\n",
              "3       6/1/15            250         SAN      0\n",
              "4       6/1/15            267         PHL     64\n",
              "...        ...            ...         ...    ...\n",
              "13820  8/31/15           1978         LAS     -4\n",
              "13821  8/31/15           1993         IAD      8\n",
              "13822  8/31/15           1994         ORD      3\n",
              "13823  8/31/15           2000         PHX     -1\n",
              "13824  8/31/15           2013         EWR     -2\n",
              "\n",
              "[13825 rows x 4 columns]"
            ]
          },
          "metadata": {
            "tags": []
          },
          "execution_count": 144
        }
      ]
    },
    {
      "cell_type": "code",
      "metadata": {
        "id": "kLb0kXBj758T"
      },
      "source": [
        "flightsdata_ds=ds.Table.from_df(flights_data)"
      ],
      "execution_count": null,
      "outputs": []
    },
    {
      "cell_type": "code",
      "metadata": {
        "colab": {
          "base_uri": "https://localhost:8080/"
        },
        "id": "ma3sVDlf4PRs",
        "outputId": "fc209db9-de91-4ace-9d9b-889e4700f62e"
      },
      "source": [
        "def empirical_sample_mean_sd(n):\n",
        "    sample_means = ds.make_array()\n",
        "    for i in np.arange(500):\n",
        "        sample = flightsdata_ds.sample(n)\n",
        "        sample_mean = np.mean(sample.column('Delay'))\n",
        "        sample_means = np.append(sample_means, sample_mean)\n",
        "    return np.std(sample_means)\n",
        "\n",
        "empirical_sample_mean_sd(10)"
      ],
      "execution_count": null,
      "outputs": [
        {
          "output_type": "execute_result",
          "data": {
            "text/plain": [
              "12.277219659189942"
            ]
          },
          "metadata": {
            "tags": []
          },
          "execution_count": 146
        }
      ]
    },
    {
      "cell_type": "markdown",
      "metadata": {
        "id": "oLdHy4sZM5y2"
      },
      "source": [
        "2.4) Now, write a function calledpredictsamplemeansdto find the predicted value of the standard deviation of meansaccording to the relationship between the standard deviation of the sample mean and sample size that is discussedin the textbook.  It takes a sample sizen(a number) as its argument.  It returns the predicted value of the standarddeviation of the mean delay time for samples of sizenfrom the flight delays (represented in the tableunited)."
      ]
    },
    {
      "cell_type": "code",
      "metadata": {
        "colab": {
          "base_uri": "https://localhost:8080/"
        },
        "id": "nMfcbhdtmc1Y",
        "outputId": "9a1935f0-ebe8-4ea4-dd50-8896375554bb"
      },
      "source": [
        "#2.4\n",
        "def predict_sample_mean_sd(n):\n",
        "    flight_delay_std = np.std(df2.column('Delay'))\n",
        "    return flight_delay_std / (n) ** 0.5\n",
        "\n",
        "predict_sample_mean_sd(10)"
      ],
      "execution_count": null,
      "outputs": [
        {
          "output_type": "execute_result",
          "data": {
            "text/plain": [
              "12.484735400972708"
            ]
          },
          "metadata": {
            "tags": []
          },
          "execution_count": 148
        }
      ]
    }
  ]
}